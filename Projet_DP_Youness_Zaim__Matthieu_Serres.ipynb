{
  "nbformat": 4,
  "nbformat_minor": 0,
  "metadata": {
    "colab": {
      "name": "Projet DP - Youness Zaim & Matthieu Serres.ipynb",
      "provenance": []
    },
    "kernelspec": {
      "display_name": "Python 3",
      "language": "python",
      "name": "python3"
    },
    "language_info": {
      "codemirror_mode": {
        "name": "ipython",
        "version": 3
      },
      "file_extension": ".py",
      "mimetype": "text/x-python",
      "name": "python",
      "nbconvert_exporter": "python",
      "pygments_lexer": "ipython3",
      "version": "3.7.6"
    }
  },
  "cells": [
    {
      "cell_type": "markdown",
      "metadata": {
        "id": "X_lPOl2GpfWQ"
      },
      "source": [
        "# Deep Learning Project - Text Generation"
      ]
    },
    {
      "cell_type": "markdown",
      "metadata": {
        "id": "yz8qMwCvpo1Z"
      },
      "source": [
        "by Youness Zaim & Matthieu Serres"
      ]
    },
    {
      "cell_type": "markdown",
      "metadata": {
        "id": "hoEYoRJkrsd6"
      },
      "source": [
        "In this file is presented the code that we used to create the application that generates a recipe from an ingredient."
      ]
    },
    {
      "cell_type": "markdown",
      "metadata": {
        "id": "iDAjJEL4u0eh"
      },
      "source": [
        "The code is commented to be as clear as possible. \\\\\n",
        "We also explain the issues we encountered during this project."
      ]
    },
    {
      "cell_type": "markdown",
      "metadata": {
        "id": "EkRa4PNetJ4F"
      },
      "source": [
        "### 1. Importing the Libraries and Creating the Dataset"
      ]
    },
    {
      "cell_type": "code",
      "metadata": {
        "id": "nx-sHR1XSe1V"
      },
      "source": [
        "import tensorflow as tf\n",
        "import matplotlib.pyplot as plt\n",
        "import numpy as np\n",
        "import platform\n",
        "import time\n",
        "import pathlib\n",
        "import os\n",
        "import json\n",
        "import zipfile\n"
      ],
      "execution_count": 1,
      "outputs": []
    },
    {
      "cell_type": "markdown",
      "metadata": {
        "id": "SIgRA0Swtxw3"
      },
      "source": [
        "Then, we download the data."
      ]
    },
    {
      "cell_type": "markdown",
      "metadata": {
        "id": "Yh9PO3XauYCB"
      },
      "source": [
        "We need a dataset with a title for each recipe, ingredients and their proportions as well as cooking instructions. \\\\\n",
        "We use the 'Recipe-Box' data set which contains roughly 125k recipes."
      ]
    },
    {
      "cell_type": "markdown",
      "metadata": {
        "id": "ldoFoe6xuxCO"
      },
      "source": [
        "We download this dataset using the following code:"
      ]
    },
    {
      "cell_type": "code",
      "metadata": {
        "colab": {
          "base_uri": "https://localhost:8080/"
        },
        "id": "sN6qMm8fSpxM",
        "outputId": "435fa062-1ec0-47e6-d702-ab0d4cf1eb79"
      },
      "source": [
        "# Create cache folder and Using get_file() it helps download the dataset files only once and execute faster.\n",
        "dir = './tmp'\n",
        "pathlib.Path(dir).mkdir(exist_ok=True)\n",
        "# Download and unpack the dataset.\n",
        "dataset_file_name = 'recipes_raw.zip'\n",
        "dataset_file_origin = 'https://storage.googleapis.com/recipe-box/recipes_raw.zip'\n",
        "\n",
        "dataset_file_path = tf.keras.utils.get_file(\n",
        "    fname=dataset_file_name,\n",
        "    origin=dataset_file_origin,\n",
        "    cache_dir=dir,\n",
        "    extract=True,\n",
        "    archive_format='zip'\n",
        ")\n",
        "\n",
        "print(dataset_file_path)"
      ],
      "execution_count": 2,
      "outputs": [
        {
          "output_type": "stream",
          "text": [
            "Downloading data from https://storage.googleapis.com/recipe-box/recipes_raw.zip\n",
            "53362688/53355492 [==============================] - 1s 0us/step\n",
            "./tmp/datasets/recipes_raw.zip\n"
          ],
          "name": "stdout"
        }
      ]
    },
    {
      "cell_type": "markdown",
      "metadata": {
        "id": "yn5hVCVPu8Tk"
      },
      "source": [
        "This dataset contains 3 files: recipes_raw_nosource_ar.json, recipes_raw_nosource_epi.json, recipes_raw_nosource_fn.json\n"
      ]
    },
    {
      "cell_type": "code",
      "metadata": {
        "colab": {
          "base_uri": "https://localhost:8080/"
        },
        "id": "0SNxVMnYSuI3",
        "outputId": "d360470f-39e7-47eb-ad91-b593bca2db7e"
      },
      "source": [
        "!ls -la ./tmp/datasets/"
      ],
      "execution_count": 3,
      "outputs": [
        {
          "output_type": "stream",
          "text": [
            "total 251972\n",
            "drwxr-xr-x 2 root root     4096 Jan  5 16:21 .\n",
            "drwxr-xr-x 3 root root     4096 Jan  5 16:21 ..\n",
            "-rw-r--r-- 1 root root    20437 Jan  5 16:21 LICENSE\n",
            "-rw-r--r-- 1 root root 49784325 Jan  5 16:21 recipes_raw_nosource_ar.json\n",
            "-rw-r--r-- 1 root root 61133971 Jan  5 16:21 recipes_raw_nosource_epi.json\n",
            "-rw-r--r-- 1 root root 93702755 Jan  5 16:21 recipes_raw_nosource_fn.json\n",
            "-rw-r--r-- 1 root root 53355492 Jan  5 16:21 recipes_raw.zip\n"
          ],
          "name": "stdout"
        }
      ]
    },
    {
      "cell_type": "markdown",
      "metadata": {
        "id": "uE6cLrovvKXh"
      },
      "source": [
        "We need to merge the information from these files in order to get: the title of the recipe, the ingredients with the quantities associated and the cooking instructions."
      ]
    },
    {
      "cell_type": "code",
      "metadata": {
        "colab": {
          "base_uri": "https://localhost:8080/"
        },
        "id": "SMEWF33STajy",
        "outputId": "3b1db7b4-cc5f-4913-9297-5a98c8d587bf"
      },
      "source": [
        "def load_dataset(silent=False):\n",
        "    file_names = [\n",
        "        'recipes_raw_nosource_ar.json',\n",
        "        'recipes_raw_nosource_epi.json',\n",
        "        'recipes_raw_nosource_fn.json',\n",
        "    ]\n",
        "    \n",
        "    dataset = []\n",
        "\n",
        "    for dataset_file_name in file_names:\n",
        "        dataset_file_path = f'{dir}/datasets/{dataset_file_name}'\n",
        "\n",
        "        with open(dataset_file_path) as dataset_file:\n",
        "            json_data_dict = json.load(dataset_file)\n",
        "            json_data_list = list(json_data_dict.values())\n",
        "            dict_keys = [key for key in json_data_list[0]]\n",
        "            dict_keys.sort()\n",
        "            dataset += json_data_list\n",
        "\n",
        "            if silent == False:\n",
        "                print(dataset_file_path)\n",
        "                print('===========================================')\n",
        "                print('Number of examples: ', len(json_data_list), '\\n')\n",
        "                print('Example object keys:\\n', dict_keys, '\\n')\n",
        "                print('Example object:\\n', json_data_list[0], '\\n')\n",
        "                print('Required keys:\\n')\n",
        "                print('  title: ', json_data_list[0]['title'], '\\n')\n",
        "                print('  ingredients: ', json_data_list[0]['ingredients'], '\\n')\n",
        "                print('  instructions: ', json_data_list[0]['instructions'])\n",
        "                print('\\n\\n')\n",
        "\n",
        "    return dataset  \n",
        "dataset_raw = load_dataset() \n",
        "print('Total number of raw examples: ', len(dataset_raw))     "
      ],
      "execution_count": 4,
      "outputs": [
        {
          "output_type": "stream",
          "text": [
            "./tmp/datasets/recipes_raw_nosource_ar.json\n",
            "===========================================\n",
            "Number of examples:  39802 \n",
            "\n",
            "Example object keys:\n",
            " ['ingredients', 'instructions', 'picture_link', 'title'] \n",
            "\n",
            "Example object:\n",
            " {'title': 'Slow Cooker Chicken and Dumplings', 'ingredients': ['4 skinless, boneless chicken breast halves ADVERTISEMENT', '2 tablespoons butter ADVERTISEMENT', '2 (10.75 ounce) cans condensed cream of chicken soup ADVERTISEMENT', '1 onion, finely diced ADVERTISEMENT', '2 (10 ounce) packages refrigerated biscuit dough, torn into pieces ADVERTISEMENT', 'ADVERTISEMENT'], 'instructions': 'Place the chicken, butter, soup, and onion in a slow cooker, and fill with enough water to cover.\\nCover, and cook for 5 to 6 hours on High. About 30 minutes before serving, place the torn biscuit dough in the slow cooker. Cook until the dough is no longer raw in the center.\\n', 'picture_link': '55lznCYBbs2mT8BTx6BTkLhynGHzM.S'} \n",
            "\n",
            "Required keys:\n",
            "\n",
            "  title:  Slow Cooker Chicken and Dumplings \n",
            "\n",
            "  ingredients:  ['4 skinless, boneless chicken breast halves ADVERTISEMENT', '2 tablespoons butter ADVERTISEMENT', '2 (10.75 ounce) cans condensed cream of chicken soup ADVERTISEMENT', '1 onion, finely diced ADVERTISEMENT', '2 (10 ounce) packages refrigerated biscuit dough, torn into pieces ADVERTISEMENT', 'ADVERTISEMENT'] \n",
            "\n",
            "  instructions:  Place the chicken, butter, soup, and onion in a slow cooker, and fill with enough water to cover.\n",
            "Cover, and cook for 5 to 6 hours on High. About 30 minutes before serving, place the torn biscuit dough in the slow cooker. Cook until the dough is no longer raw in the center.\n",
            "\n",
            "\n",
            "\n",
            "\n",
            "./tmp/datasets/recipes_raw_nosource_epi.json\n",
            "===========================================\n",
            "Number of examples:  25323 \n",
            "\n",
            "Example object keys:\n",
            " ['ingredients', 'instructions', 'picture_link', 'title'] \n",
            "\n",
            "Example object:\n",
            " {'ingredients': ['12 egg whites', '12 egg yolks', '1 1/2 cups sugar', '3/4 cup rye whiskey', '12 egg whites', '3/4 cup brandy', '1/2 cup rum', '1 to 2 cups heavy cream, lightly whipped', 'Garnish: ground nutmeg'], 'picture_link': None, 'instructions': 'Beat the egg whites until stiff, gradually adding in 3/4 cup sugar. Set aside. Beat the egg yolks until they are thick and pale and add the other 3/4 cup sugar and stir in rye whiskey. Blend well. Fold the egg white mixture into the yolk mixture and add the brandy and the rum. Beat the mixture well. To serve, fold the lightly whipped heavy cream into the eggnog. (If a thinner mixture is desired, add the heavy cream unwhipped.) Sprinkle the top of the eggnog with the nutmeg to taste.\\nBeat the egg whites until stiff, gradually adding in 3/4 cup sugar. Set aside. Beat the egg yolks until they are thick and pale and add the other 3/4 cup sugar and stir in rye whiskey. Blend well. Fold the egg white mixture into the yolk mixture and add the brandy and the rum. Beat the mixture well. To serve, fold the lightly whipped heavy cream into the eggnog. (If a thinner mixture is desired, add the heavy cream unwhipped.) Sprinkle the top of the eggnog with the nutmeg to taste.', 'title': 'Christmas Eggnog '} \n",
            "\n",
            "Required keys:\n",
            "\n",
            "  title:  Christmas Eggnog  \n",
            "\n",
            "  ingredients:  ['12 egg whites', '12 egg yolks', '1 1/2 cups sugar', '3/4 cup rye whiskey', '12 egg whites', '3/4 cup brandy', '1/2 cup rum', '1 to 2 cups heavy cream, lightly whipped', 'Garnish: ground nutmeg'] \n",
            "\n",
            "  instructions:  Beat the egg whites until stiff, gradually adding in 3/4 cup sugar. Set aside. Beat the egg yolks until they are thick and pale and add the other 3/4 cup sugar and stir in rye whiskey. Blend well. Fold the egg white mixture into the yolk mixture and add the brandy and the rum. Beat the mixture well. To serve, fold the lightly whipped heavy cream into the eggnog. (If a thinner mixture is desired, add the heavy cream unwhipped.) Sprinkle the top of the eggnog with the nutmeg to taste.\n",
            "Beat the egg whites until stiff, gradually adding in 3/4 cup sugar. Set aside. Beat the egg yolks until they are thick and pale and add the other 3/4 cup sugar and stir in rye whiskey. Blend well. Fold the egg white mixture into the yolk mixture and add the brandy and the rum. Beat the mixture well. To serve, fold the lightly whipped heavy cream into the eggnog. (If a thinner mixture is desired, add the heavy cream unwhipped.) Sprinkle the top of the eggnog with the nutmeg to taste.\n",
            "\n",
            "\n",
            "\n",
            "./tmp/datasets/recipes_raw_nosource_fn.json\n",
            "===========================================\n",
            "Number of examples:  60039 \n",
            "\n",
            "Example object keys:\n",
            " ['ingredients', 'instructions', 'picture_link', 'title'] \n",
            "\n",
            "Example object:\n",
            " {'instructions': 'Toss ingredients lightly and spoon into a buttered baking dish. Top with additional crushed cracker crumbs, and brush with melted butter. Bake in a preheated at 350 degrees oven for 25 to 30 minutes or until delicately browned.', 'ingredients': ['1/2 cup celery, finely chopped', '1 small green pepper finely chopped', '1/2 cup finely sliced green onions', '1/4 cup chopped parsley', '1 pound crabmeat', '1 1/4 cups coarsely crushed cracker crumbs', '1/2 teaspoon salt', '3/4 teaspoons dry mustard', 'Dash hot sauce', '1/4 cup heavy cream', '1/2 cup melted butter'], 'title': \"Grammie Hamblet's Deviled Crab\", 'picture_link': None} \n",
            "\n",
            "Required keys:\n",
            "\n",
            "  title:  Grammie Hamblet's Deviled Crab \n",
            "\n",
            "  ingredients:  ['1/2 cup celery, finely chopped', '1 small green pepper finely chopped', '1/2 cup finely sliced green onions', '1/4 cup chopped parsley', '1 pound crabmeat', '1 1/4 cups coarsely crushed cracker crumbs', '1/2 teaspoon salt', '3/4 teaspoons dry mustard', 'Dash hot sauce', '1/4 cup heavy cream', '1/2 cup melted butter'] \n",
            "\n",
            "  instructions:  Toss ingredients lightly and spoon into a buttered baking dish. Top with additional crushed cracker crumbs, and brush with melted butter. Bake in a preheated at 350 degrees oven for 25 to 30 minutes or until delicately browned.\n",
            "\n",
            "\n",
            "\n",
            "Total number of raw examples:  125164\n"
          ],
          "name": "stdout"
        }
      ]
    },
    {
      "cell_type": "markdown",
      "metadata": {
        "id": "WnTuk0fXwgnz"
      },
      "source": [
        "We can see from these examples that we need to clean the data in order to be able to use it properly. \\\\\n",
        "Indeed, in the example of the first file, the string 'ADVERTISEMENT' which appears after each ingredient must be eliminated for instance."
      ]
    },
    {
      "cell_type": "markdown",
      "metadata": {
        "id": "8mZvvxWuv-DT"
      },
      "source": [
        "### 2. Cleaning and Preparing the Data"
      ]
    },
    {
      "cell_type": "markdown",
      "metadata": {
        "id": "ia-bVabWwKd2"
      },
      "source": [
        "First, we need to deletes unpractical recipes: those without title, ingredients or instructions."
      ]
    },
    {
      "cell_type": "code",
      "metadata": {
        "colab": {
          "base_uri": "https://localhost:8080/"
        },
        "id": "i_kkYdnYTanC",
        "outputId": "b7e06da3-366b-40ca-b274-7a89df3f43bd"
      },
      "source": [
        "def validate_recipe(recipe):\n",
        "    required_keys = ['title', 'ingredients', 'instructions']\n",
        "    \n",
        "    if not recipe:\n",
        "        return False\n",
        "    \n",
        "    for required_key in required_keys:\n",
        "        if not recipe[required_key]:\n",
        "            return False\n",
        "        \n",
        "        if type(recipe[required_key]) == list and len(recipe[required_key]) == 0:\n",
        "            return False\n",
        "    \n",
        "    return True\n",
        "\n",
        "dataset_validated = [recipe for recipe in dataset_raw if validate_recipe(recipe)]\n",
        "\n",
        "print('Dataset size BEFORE validation', len(dataset_raw))\n",
        "print('Dataset size AFTER validation', len(dataset_validated))\n",
        "print('Number of invalide recipes', len(dataset_raw) - len(dataset_validated))"
      ],
      "execution_count": 5,
      "outputs": [
        {
          "output_type": "stream",
          "text": [
            "Dataset size BEFORE validation 125164\n",
            "Dataset size AFTER validation 122938\n",
            "Number of invalide recipes 2226\n"
          ],
          "name": "stdout"
        }
      ]
    },
    {
      "cell_type": "markdown",
      "metadata": {
        "id": "kEl1DW0dxVN6"
      },
      "source": [
        "We only lost 2226 recipes meaning that the data seems to be well constructed."
      ]
    },
    {
      "cell_type": "markdown",
      "metadata": {
        "id": "RClVCkusx5PR"
      },
      "source": [
        "Then, we create a function that will convert the recipes to string which will make them easier to use as RNN input. \\\\\n",
        "This function will also remove the noise string identified in the recipes of the first file."
      ]
    },
    {
      "cell_type": "code",
      "metadata": {
        "colab": {
          "base_uri": "https://localhost:8080/"
        },
        "id": "EdUyVgKnV-AN",
        "outputId": "99440acd-a49f-4520-f1d8-8e3f6a1b3f9b"
      },
      "source": [
        "# We need first to create stop words that will help the RNN to learn the structure of the recipes\n",
        "\n",
        "STOP_WORD_TITLE = '📗 '\n",
        "STOP_WORD_INGREDIENTS = '\\n🥕\\n\\n'\n",
        "STOP_WORD_INSTRUCTIONS = '\\n📝\\n\\n'\n",
        "\n",
        "\n",
        "\n",
        "def recipe_to_string(recipe):\n",
        "\n",
        "    noize_string = 'ADVERTISEMENT'\n",
        "    \n",
        "    title = recipe['title']\n",
        "    ingredients = recipe['ingredients']\n",
        "    instructions = recipe['instructions'].split('\\n')\n",
        "    \n",
        "    ingredients_string = ''\n",
        "    for ingredient in ingredients:\n",
        "        ingredient = ingredient.replace(noize_string, '')\n",
        "        if ingredient:\n",
        "            ingredients_string += f'• {ingredient}\\n'\n",
        "    \n",
        "    instructions_string = ''\n",
        "    for instruction in instructions:\n",
        "        instruction = instruction.replace(noize_string, '')\n",
        "        if instruction:\n",
        "            instructions_string += f'▪︎ {instruction}\\n'\n",
        "    \n",
        "    return f'{STOP_WORD_TITLE}{title}\\n{STOP_WORD_INGREDIENTS}{ingredients_string}{STOP_WORD_INSTRUCTIONS}{instructions_string}'\n",
        "\n",
        "dataset_stringified = [recipe_to_string(recipe) for recipe in dataset_validated]\n",
        "\n",
        "for recipe_index, recipe_string in enumerate(dataset_stringified[:10]):\n",
        "    print('Recipe #{}\\n---------'.format(recipe_index + 1))\n",
        "    print(recipe_string)\n",
        "    print('\\n')"
      ],
      "execution_count": 6,
      "outputs": [
        {
          "output_type": "stream",
          "text": [
            "Recipe #1\n",
            "---------\n",
            "📗 Slow Cooker Chicken and Dumplings\n",
            "\n",
            "🥕\n",
            "\n",
            "• 4 skinless, boneless chicken breast halves \n",
            "• 2 tablespoons butter \n",
            "• 2 (10.75 ounce) cans condensed cream of chicken soup \n",
            "• 1 onion, finely diced \n",
            "• 2 (10 ounce) packages refrigerated biscuit dough, torn into pieces \n",
            "\n",
            "📝\n",
            "\n",
            "▪︎ Place the chicken, butter, soup, and onion in a slow cooker, and fill with enough water to cover.\n",
            "▪︎ Cover, and cook for 5 to 6 hours on High. About 30 minutes before serving, place the torn biscuit dough in the slow cooker. Cook until the dough is no longer raw in the center.\n",
            "\n",
            "\n",
            "\n",
            "Recipe #2\n",
            "---------\n",
            "📗 Awesome Slow Cooker Pot Roast\n",
            "\n",
            "🥕\n",
            "\n",
            "• 2 (10.75 ounce) cans condensed cream of mushroom soup \n",
            "• 1 (1 ounce) package dry onion soup mix \n",
            "• 1 1/4 cups water \n",
            "• 5 1/2 pounds pot roast \n",
            "\n",
            "📝\n",
            "\n",
            "▪︎ In a slow cooker, mix cream of mushroom soup, dry onion soup mix and water. Place pot roast in slow cooker and coat with soup mixture.\n",
            "▪︎ Cook on High setting for 3 to 4 hours, or on Low setting for 8 to 9 hours.\n",
            "\n",
            "\n",
            "\n",
            "Recipe #3\n",
            "---------\n",
            "📗 Brown Sugar Meatloaf\n",
            "\n",
            "🥕\n",
            "\n",
            "• 1/2 cup packed brown sugar \n",
            "• 1/2 cup ketchup \n",
            "• 1 1/2 pounds lean ground beef \n",
            "• 3/4 cup milk \n",
            "• 2 eggs \n",
            "• 1 1/2 teaspoons salt \n",
            "• 1/4 teaspoon ground black pepper \n",
            "• 1 small onion, chopped \n",
            "• 1/4 teaspoon ground ginger \n",
            "• 3/4 cup finely crushed saltine cracker crumbs \n",
            "\n",
            "📝\n",
            "\n",
            "▪︎ Preheat oven to 350 degrees F (175 degrees C). Lightly grease a 5x9 inch loaf pan.\n",
            "▪︎ Press the brown sugar in the bottom of the prepared loaf pan and spread the ketchup over the sugar.\n",
            "▪︎ In a mixing bowl, mix thoroughly all remaining ingredients and shape into a loaf. Place on top of the ketchup.\n",
            "▪︎ Bake in preheated oven for 1 hour or until juices are clear.\n",
            "\n",
            "\n",
            "\n",
            "Recipe #4\n",
            "---------\n",
            "📗 Best Chocolate Chip Cookies\n",
            "\n",
            "🥕\n",
            "\n",
            "• 1 cup butter, softened \n",
            "• 1 cup white sugar \n",
            "• 1 cup packed brown sugar \n",
            "• 2 eggs \n",
            "• 2 teaspoons vanilla extract \n",
            "• 3 cups all-purpose flour \n",
            "• 1 teaspoon baking soda \n",
            "• 2 teaspoons hot water \n",
            "• 1/2 teaspoon salt \n",
            "• 2 cups semisweet chocolate chips \n",
            "• 1 cup chopped walnuts \n",
            "\n",
            "📝\n",
            "\n",
            "▪︎ Preheat oven to 350 degrees F (175 degrees C).\n",
            "▪︎ Cream together the butter, white sugar, and brown sugar until smooth. Beat in the eggs one at a time, then stir in the vanilla. Dissolve baking soda in hot water. Add to batter along with salt. Stir in flour, chocolate chips, and nuts. Drop by large spoonfuls onto ungreased pans.\n",
            "▪︎ Bake for about 10 minutes in the preheated oven, or until edges are nicely browned.\n",
            "\n",
            "\n",
            "\n",
            "Recipe #5\n",
            "---------\n",
            "📗 Homemade Mac and Cheese Casserole\n",
            "\n",
            "🥕\n",
            "\n",
            "• 8 ounces whole wheat rotini pasta \n",
            "• 3 cups fresh broccoli florets \n",
            "• 1 medium onion, chopped \n",
            "• 3 cloves garlic, minced \n",
            "• 4 tablespoons butter, divided \n",
            "• 2 tablespoons all-purpose flour \n",
            "• 1/4 teaspoon salt \n",
            "• 1/8 teaspoon ground black pepper \n",
            "• 2 1/2 cups milk \n",
            "• 8 ounces Cheddar cheese, shredded \n",
            "• 4 ounces reduced-fat cream cheese, cubed and softened \n",
            "• 1/2 cup fine dry Italian-seasoned bread crumbs \n",
            "• Reynolds Wrap® Non Stick Aluminum Foil \n",
            "\n",
            "📝\n",
            "\n",
            "▪︎ Preheat oven to 350 degrees F. Line a 2-quart casserole dish with Reynolds Wrap(R) Pan Lining Paper, parchment side up. No need to grease dish.\n",
            "▪︎ Cook the pasta in a large saucepan according to the package directions, adding the broccoli for the last 3 minutes of cooking. Drain. Return to the saucepan and set aside.\n",
            "▪︎ Cook the onion and garlic in 2 tablespoons hot butter in a large skillet 5 to 7 minutes or until tender. Stir in flour, salt, and black pepper. Add the milk all at once. Cook and stir over medium heat until slightly thickened and bubbly. Add cheddar cheese and cream cheese, stirring until melted. Pour cheese sauce over the pasta and broccoli and stir until well combined.\n",
            "▪︎ Melt the remaining 2 tablespoons butter and mix with the bread crumbs in a small bowl. Transfer the pasta mixture to the prepared casserole dish. Top with the buttery bread crumbs.\n",
            "▪︎ Bake, uncovered, about 25 minutes or until bubbly and internal temperature is 165 degrees F. Let stand for 10 minutes before serving.\n",
            "\n",
            "\n",
            "\n",
            "Recipe #6\n",
            "---------\n",
            "📗 Banana Banana Bread\n",
            "\n",
            "🥕\n",
            "\n",
            "• 2 cups all-purpose flour \n",
            "• 1 teaspoon baking soda \n",
            "• 1/4 teaspoon salt \n",
            "• 1/2 cup butter \n",
            "• 3/4 cup brown sugar \n",
            "• 2 eggs, beaten \n",
            "• 2 1/3 cups mashed overripe bananas \n",
            "\n",
            "📝\n",
            "\n",
            "▪︎ Preheat oven to 350 degrees F (175 degrees C). Lightly grease a 9x5 inch loaf pan.\n",
            "▪︎ In a large bowl, combine flour, baking soda and salt. In a separate bowl, cream together butter and brown sugar. Stir in eggs and mashed bananas until well blended. Stir banana mixture into flour mixture; stir just to moisten. Pour batter into prepared loaf pan.\n",
            "▪︎ Bake in preheated oven for 60 to 65 minutes, until a toothpick inserted into center of the loaf comes out clean. Let bread cool in pan for 10 minutes, then turn out onto a wire rack.\n",
            "\n",
            "\n",
            "\n",
            "Recipe #7\n",
            "---------\n",
            "📗 Chef John's Fisherman's Pie\n",
            "\n",
            "🥕\n",
            "\n",
            "• For potato crust: \n",
            "• 3 russet potatoes, peeled and cut into chunks \n",
            "• 3 tablespoons butter \n",
            "• 1 pinch freshly grated nutmeg \n",
            "• salt and ground black pepper to taste \n",
            "• 1 pinch cayenne pepper, or to taste \n",
            "• 1/2 cup milk \n",
            "• For the spinach: \n",
            "• 2 teaspoons olive oil \n",
            "• 12 ounces baby spinach leaves \n",
            "• For the sauce: \n",
            "• 3 tablespoons butter \n",
            "• 3 tablespoons all-purpose flour \n",
            "• 2 cloves garlic, minced \n",
            "• 2 cups cold milk, divided \n",
            "• 2 teaspoons lemon zest \n",
            "• For the rest: \n",
            "• 1 tablespoon butter \n",
            "• salt and ground black pepper to taste \n",
            "• 1 pinch cayenne pepper, or to taste \n",
            "• 2 pounds boneless cod fillets \n",
            "• 1/2 lemon, juiced \n",
            "• 1 tablespoon chopped fresh chives for garnish \n",
            "\n",
            "📝\n",
            "\n",
            "▪︎ Bring a large saucepan of salted water and to a boil; add russet potatoes to boiling water and cook until very tender, about 20 minutes. Drain well. Mash in 3 tablespoons butter until thoroughly combined. Season with nutmeg, salt, black pepper, and cayenne pepper to taste. Mash 1/2 cup milk into potato mixture until smooth.\n",
            "▪︎ Drizzle olive oil in a large Dutch oven over medium-high heat, add spinach, and season with a big pinch of salt. Cook, stirring occasionally, until spinach has wilted, about 1 minute. Transfer to a bowl lined with paper towels to wick away excess moisture.\n",
            "▪︎ Heat 3 tablespoons butter and flour in a saucepan over medium heat; whisk mixture to a smooth paste. Cook, stirring constantly, until mixture has a nutty smell and is slightly browned, about 2 minutes. Add chopped garlic; whisk until fragrant, 10 to 20 seconds.\n",
            "▪︎ Whisk 1 cup cold milk into flour mixture; cook until thickened. Whisk in remaining 1 cup milk and lemon zest. Bring white sauce to a gentle simmer, whisking constantly; season with salt. Turn heat to very low and keep sauce warm.\n",
            "▪︎ Preheat oven to 375 degrees F (190 degrees C). Grease an 8x12-inch casserole dish with 1 tablespoon butter.\n",
            "▪︎ Season buttered pan with salt, black pepper, and cayenne pepper. Lay boneless cod fillets into the pan in a single layer. Season tops of fillets with more salt, black pepper, and cayenne pepper. Spread spinach evenly over fish and drizzle with lemon juice. Spoon white sauce over spinach; give casserole dish several taps and shakes to eliminate bubbles.\n",
            "▪︎ Drop mashed potatoes by heaping spoonfuls over the casserole and spread smoothly to cover. Place dish onto a rimmed baking sheet to catch spills.\n",
            "▪︎ Bake in the preheated oven until bubbling, about 40 minutes. Turn on oven's broiler and broil until potato crust has a golden brown top, about 2 minutes. Fish should flake easily. Let stand 10 minutes before serving. Garnish with a sprinkle of chives.\n",
            "\n",
            "\n",
            "\n",
            "Recipe #8\n",
            "---------\n",
            "📗 Mom's Zucchini Bread\n",
            "\n",
            "🥕\n",
            "\n",
            "• 3 cups all-purpose flour \n",
            "• 1 teaspoon salt \n",
            "• 1 teaspoon baking soda \n",
            "• 1 teaspoon baking powder \n",
            "• 1 tablespoon ground cinnamon \n",
            "• 3 eggs \n",
            "• 1 cup vegetable oil \n",
            "• 2 1/4 cups white sugar \n",
            "• 3 teaspoons vanilla extract \n",
            "• 2 cups grated zucchini \n",
            "• 1 cup chopped walnuts \n",
            "\n",
            "📝\n",
            "\n",
            "▪︎ Grease and flour two 8 x 4 inch pans. Preheat oven to 325 degrees F (165 degrees C).\n",
            "▪︎ Sift flour, salt, baking powder, soda, and cinnamon together in a bowl.\n",
            "▪︎ Beat eggs, oil, vanilla, and sugar together in a large bowl. Add sifted ingredients to the creamed mixture, and beat well. Stir in zucchini and nuts until well combined. Pour batter into prepared pans.\n",
            "▪︎ Bake for 40 to 60 minutes, or until tester inserted in the center comes out clean. Cool in pan on rack for 20 minutes. Remove bread from pan, and completely cool.\n",
            "\n",
            "\n",
            "\n",
            "Recipe #9\n",
            "---------\n",
            "📗 The Best Rolled Sugar Cookies\n",
            "\n",
            "🥕\n",
            "\n",
            "• 1 1/2 cups butter, softened \n",
            "• 2 cups white sugar \n",
            "• 4 eggs \n",
            "• 1 teaspoon vanilla extract \n",
            "• 5 cups all-purpose flour \n",
            "• 2 teaspoons baking powder \n",
            "• 1 teaspoon salt \n",
            "\n",
            "📝\n",
            "\n",
            "▪︎ In a large bowl, cream together butter and sugar until smooth. Beat in eggs and vanilla. Stir in the flour, baking powder, and salt. Cover, and chill dough for at least one hour (or overnight).\n",
            "▪︎ Preheat oven to 400 degrees F (200 degrees C). Roll out dough on floured surface 1/4 to 1/2 inch thick. Cut into shapes with any cookie cutter. Place cookies 1 inch apart on ungreased cookie sheets.\n",
            "▪︎ Bake 6 to 8 minutes in preheated oven. Cool completely.\n",
            "\n",
            "\n",
            "\n",
            "Recipe #10\n",
            "---------\n",
            "📗 Singapore Chili Crabs\n",
            "\n",
            "🥕\n",
            "\n",
            "• Sauce: \n",
            "• 1/2 cup ketchup \n",
            "• 1/2 cup chicken broth \n",
            "• 1 large egg \n",
            "• 2 tablespoons soy sauce \n",
            "• 2 tablespoons chile-garlic sauce (such as sambal oelek) \n",
            "• 1 tablespoon oyster sauce \n",
            "• 1 tablespoon tamarind paste \n",
            "• 2 teaspoons fish sauce \n",
            "• 2 teaspoons palm sugar \n",
            "• 1/4 cup minced shallot \n",
            "• 6 cloves garlic, minced \n",
            "• 2 tablespoons vegetable oil, or more as needed \n",
            "• 2 tablespoons minced fresh ginger root \n",
            "• 1 tablespoon minced serrano pepper \n",
            "• 2 cooked Dungeness crabs, cleaned and cracked \n",
            "• 2 tablespoons chopped fresh cilantro \n",
            "• 2 tablespoons sliced green onion (green part only) \n",
            "\n",
            "📝\n",
            "\n",
            "▪︎ Whisk ketchup, chicken broth, egg, soy sauce, chile-garlic sauce, oyster sauce, tamarind paste, fish sauce, and palm sugar together in a bowl.\n",
            "▪︎ Stir shallots, garlic, oil, ginger, and serrano pepper together in a pot over medium-high heat. Saute until sizzling, about 2 minutes. Add crab to pot, cover the pot with a lid, and shake until crab is completely coated in shallot mixture. Remove lid and cook and stir until heated through, about 3 minutes.\n",
            "▪︎ Pour ketchup mixture into pot, reduce heat to medium, and cook and stir until sauce thickens and crab is hot about 5 minutes. Remove from heat; stir in cilantro and green onions.\n",
            "\n",
            "\n",
            "\n"
          ],
          "name": "stdout"
        }
      ]
    },
    {
      "cell_type": "markdown",
      "metadata": {
        "id": "vZJ1w-_Izf-8"
      },
      "source": [
        "We need to limit the number of characters in each recipe in order to speed up the training. \\\\\n",
        " We need to find a limit that will contain most of the recipes while keeping the training time quite low."
      ]
    },
    {
      "cell_type": "markdown",
      "metadata": {
        "id": "pt8iif291sLG"
      },
      "source": [
        "Note: We had huge issues with training time for this project. Whether it was a hardware limitation or a software limitation, we struggled to keep a reasonable training time. \\\\\n",
        "We had to make concessions in order to limit our training time which lead to fairly bad results."
      ]
    },
    {
      "cell_type": "markdown",
      "metadata": {
        "id": "5xLYT5qT3Yls"
      },
      "source": [
        "Therefore, given this issue, we had to limit the number of characters in ewch recipe at 100. This only gives 21 recipes which is way to low to construct a performant model but this was one of only ways to limit training time."
      ]
    },
    {
      "cell_type": "markdown",
      "metadata": {
        "id": "zcNdUnZC4Are"
      },
      "source": [
        "In normal conditions, we should set the limit around 2000 characters."
      ]
    },
    {
      "cell_type": "code",
      "metadata": {
        "colab": {
          "base_uri": "https://localhost:8080/"
        },
        "id": "nBfU26ofV-KP",
        "outputId": "97516c38-870c-4955-9ee7-bbb9bc2c732d"
      },
      "source": [
        "DEBUG = False\n",
        "DEBUG_EXAMPLES = 10\n",
        "MAX_RECIPE_LENGTH = 100\n",
        "if DEBUG:\n",
        "    MAX_RECIPE_LENGTH = 500\n",
        "\n",
        "def filter_recipes_by_length(recipe_test):\n",
        "    return len(recipe_test) <= MAX_RECIPE_LENGTH \n",
        "dataset_filtered = [recipe_text for recipe_text in dataset_stringified if filter_recipes_by_length(recipe_text)]\n",
        "TOTAL_RECIPES_NUM = len(dataset_filtered)\n",
        "print('Dataset size BEFORE filtering: ', len(dataset_stringified))\n",
        "print('Dataset size AFTER filtering: ', TOTAL_RECIPES_NUM)\n",
        "print('Number of etiminated recipes: ', len(dataset_stringified) - TOTAL_RECIPES_NUM)\n",
        "\n",
        "if DEBUG:\n",
        "    dataset_filtered = dataset_filtered[:DEBUG_EXAMPLES]\n",
        "    print('dataset_filtered.shape, ', len(dataset_filtered))\n",
        "    "
      ],
      "execution_count": 7,
      "outputs": [
        {
          "output_type": "stream",
          "text": [
            "Dataset size BEFORE filtering:  122938\n",
            "Dataset size AFTER filtering:  21\n",
            "Number of etiminated recipes:  122917\n"
          ],
          "name": "stdout"
        }
      ]
    },
    {
      "cell_type": "markdown",
      "metadata": {
        "id": "LgVHDIyk4VJm"
      },
      "source": [
        "Then, we use tf.keras.preprocessing.text.Tokenizer to create a vocabulary from the recipes."
      ]
    },
    {
      "cell_type": "code",
      "metadata": {
        "id": "3tOC1GDmV-WG"
      },
      "source": [
        "# Indicator of the end of the recipe.\n",
        "STOP_SIGN = '␣'\n",
        "tokenizer = tf.keras.preprocessing.text.Tokenizer(\n",
        "    char_level=True,\n",
        "    filters='',\n",
        "    lower=False,\n",
        "    split=''\n",
        ")\n",
        "# Stop word is not a part of recipes, but tokenizer must know about it.\n",
        "tokenizer.fit_on_texts([STOP_SIGN])\n",
        "VOCABULARY_SIZE = len(tokenizer.word_counts) + 1\n",
        "tokenizer.fit_on_texts(dataset_filtered)\n",
        "tokenizer.get_config()\n",
        "\n",
        "#Adding +1 to take into account a special unassigned 0 index.\n",
        "VOCABULARY_SIZE = len(tokenizer.word_counts) + 1"
      ],
      "execution_count": 8,
      "outputs": []
    },
    {
      "cell_type": "markdown",
      "metadata": {
        "id": "78a1ssy05Cbk"
      },
      "source": [
        "We create a function that vectorizes the dataset."
      ]
    },
    {
      "cell_type": "code",
      "metadata": {
        "colab": {
          "base_uri": "https://localhost:8080/"
        },
        "id": "WkUsxYzGU9oH",
        "outputId": "52863366-a329-46db-d7d2-db697f6bd256"
      },
      "source": [
        "def recipe_sequence_to_string(recipe_sequence):\n",
        "    recipe_stringified = tokenizer.sequences_to_texts([recipe_sequence])[0]\n",
        "    recipe_stringified = recipe_stringified.replace('   ', '_').replace(' ', '').replace('_', ' ')\n",
        "    print(recipe_stringified)\n",
        "dataset_vectorized = tokenizer.texts_to_sequences(dataset_filtered)\n",
        "recipe_sequence_to_string(dataset_vectorized[0])"
      ],
      "execution_count": 9,
      "outputs": [
        {
          "output_type": "stream",
          "text": [
            "📗 Title\n",
            "\n",
            "🥕\n",
            "\n",
            "• 1 cup rice\n",
            "• 2 cup milk\n",
            "• 3 cup wheat\n",
            "\n",
            "📝\n",
            "\n",
            "▪︎ ;\n",
            "\n"
          ],
          "name": "stdout"
        }
      ]
    },
    {
      "cell_type": "markdown",
      "metadata": {
        "id": "8h4hQsdT6NJB"
      },
      "source": [
        "We add padding to sequences in order to have same length recipes for the training by using tf.keras.preprocessing.sequence.pad_sequences.\n"
      ]
    },
    {
      "cell_type": "markdown",
      "metadata": {
        "id": "8VS7SoPQ7fuv"
      },
      "source": [
        "We use the stop sign '␣' that we add at the end of each recipe in order to make them all have the same length."
      ]
    },
    {
      "cell_type": "code",
      "metadata": {
        "colab": {
          "base_uri": "https://localhost:8080/"
        },
        "id": "dRXdXp5OU9rs",
        "outputId": "67df535c-755d-4231-cd43-5d773902893a"
      },
      "source": [
        "dataset_vectorized_padded_without_stops = tf.keras.preprocessing.sequence.pad_sequences(\n",
        "    dataset_vectorized,\n",
        "    padding='post',\n",
        "    truncating='post',\n",
        "    # We use -1 here and +1 in the next step to make sure that all recipes will have at least 1 stop\n",
        "    # sign at the end, since each sequence will be shifted and truncated afterwards (to generate X and Y sequences).\n",
        "    maxlen=MAX_RECIPE_LENGTH-1,\n",
        "    value=tokenizer.texts_to_sequences([STOP_SIGN])[0]\n",
        ")\n",
        "dataset_vectorized_padded = tf.keras.preprocessing.sequence.pad_sequences(\n",
        "    dataset_vectorized_padded_without_stops,\n",
        "    padding='post',\n",
        "    truncating='post',\n",
        "    maxlen=MAX_RECIPE_LENGTH+1,\n",
        "    value=tokenizer.texts_to_sequences([STOP_SIGN])[0]\n",
        ")\n",
        "for recipe_index, recipe in enumerate(dataset_vectorized[:3]):\n",
        "    print('Recipe #{} length before padding: {}'.format(recipe_index + 1, len(recipe)))\n",
        "for recipe_index, recipe in enumerate(dataset_vectorized_padded[:3]):\n",
        "    print('Recipe #{} length after padding: {}'.format(recipe_index, len(recipe)))\n",
        "recipe_sequence_to_string(dataset_vectorized_padded[0])"
      ],
      "execution_count": 10,
      "outputs": [
        {
          "output_type": "stream",
          "text": [
            "Recipe #1 length before padding: 61\n",
            "Recipe #2 length before padding: 55\n",
            "Recipe #3 length before padding: 37\n",
            "Recipe #0 length after padding: 101\n",
            "Recipe #1 length after padding: 101\n",
            "Recipe #2 length after padding: 101\n",
            "📗 Title\n",
            "\n",
            "🥕\n",
            "\n",
            "• 1 cup rice\n",
            "• 2 cup milk\n",
            "• 3 cup wheat\n",
            "\n",
            "📝\n",
            "\n",
            "▪︎ ;\n",
            "␣␣␣␣␣␣␣␣␣␣␣␣␣␣␣␣␣␣␣␣␣␣␣␣␣␣␣␣␣␣␣␣␣␣␣␣␣␣␣␣\n"
          ],
          "name": "stdout"
        }
      ]
    },
    {
      "cell_type": "markdown",
      "metadata": {
        "id": "LJwkEr0k76Jg"
      },
      "source": [
        "Because we set the maximum length of a recipe at 100 characters, the length after padding for all recipes will be 101 characters."
      ]
    },
    {
      "cell_type": "markdown",
      "metadata": {
        "id": "nTGrvyoQ8OOm"
      },
      "source": [
        "We create a TensorFlow dataset which will be easier to use for the training. \\\\\n",
        "Here is an illustration of the tokenizer step. "
      ]
    },
    {
      "cell_type": "code",
      "metadata": {
        "colab": {
          "base_uri": "https://localhost:8080/"
        },
        "id": "jFZ8kz5fZwBK",
        "outputId": "eab792c8-4df4-4e38-a8e4-0e09c96d70ba"
      },
      "source": [
        "dataset = tf.data.Dataset.from_tensor_slices(dataset_vectorized_padded)\n",
        "\n",
        "print(dataset)\n",
        "for recipe in dataset.take(1):\n",
        "    print('Raw recipe:\\n', recipe.numpy(), '\\n\\n\\n')\n",
        "    print('Stringified recipe:\\n')\n",
        "    recipe_sequence_to_string(recipe.numpy())"
      ],
      "execution_count": 11,
      "outputs": [
        {
          "output_type": "stream",
          "text": [
            "<TensorSliceDataset shapes: (101,), types: tf.int32>\n",
            "Raw recipe:\n",
            " [18  2 33  9 10  5  3  1  1 19  1  1 12  2 23  2 13 14 11  2  7  9 13  3\n",
            "  1 12  2 32  2 13 14 11  2 28  9  5 30  1 12  2 42  2 13 14 11  2 36 15\n",
            "  3  8 10  1  1 20  1  1 16 17  2 31  1 52 52 52 52 52 52 52 52 52 52 52\n",
            " 52 52 52 52 52 52 52 52 52 52 52 52 52 52 52 52 52 52 52 52 52 52 52 52\n",
            " 52 52 52 52 52] \n",
            "\n",
            "\n",
            "\n",
            "Stringified recipe:\n",
            "\n",
            "📗 Title\n",
            "\n",
            "🥕\n",
            "\n",
            "• 1 cup rice\n",
            "• 2 cup milk\n",
            "• 3 cup wheat\n",
            "\n",
            "📝\n",
            "\n",
            "▪︎ ;\n",
            "␣␣␣␣␣␣␣␣␣␣␣␣␣␣␣␣␣␣␣␣␣␣␣␣␣␣␣␣␣␣␣␣␣␣␣␣␣␣␣␣\n"
          ],
          "name": "stdout"
        }
      ]
    },
    {
      "cell_type": "markdown",
      "metadata": {
        "id": "2eW9ozNTF1ys"
      },
      "source": [
        "We split the texts into input and target: \\\\\n",
        " \\\\\n",
        "For each recipe, the input and target are 100 characters long. The input will have the 100 first characters (without the stop sign at the end) and the target will be the 100 last characters (without the first stop word:📗) of a recipe."
      ]
    },
    {
      "cell_type": "markdown",
      "metadata": {
        "id": "RvPQCZF4GlTa"
      },
      "source": [
        "We have now 2 tuples for each recipe. As the indices are offset by 1 between input and target, this helps the model to predict characters in a recipe."
      ]
    },
    {
      "cell_type": "code",
      "metadata": {
        "colab": {
          "base_uri": "https://localhost:8080/"
        },
        "id": "pbXX2RykZwGm",
        "outputId": "077a5c0c-fb44-4628-fcec-d0bb64a77d7e"
      },
      "source": [
        "#we split the texts into input and target \n",
        "def split_input_target(recipe):\n",
        "    input_text = recipe[:-1]\n",
        "    target_text = recipe[1:]\n",
        "    \n",
        "    return input_text, target_text\n",
        "dataset_targeted = dataset.map(split_input_target)\n",
        "for input_example, target_example in dataset_targeted.take(1):\n",
        "    print('Input sequence size:', repr(len(input_example.numpy())))\n",
        "    print('Target sequence size:', repr(len(target_example.numpy())))\n",
        "    print()\n",
        "    \n",
        "    input_stringified = tokenizer.sequences_to_texts([input_example.numpy()[:50]])[0]\n",
        "    target_stringified = tokenizer.sequences_to_texts([target_example.numpy()[:50]])[0]\n",
        "    \n",
        "    print('Input:  ', repr(''.join(input_stringified)))\n",
        "    print('Target: ', repr(''.join(target_stringified)))\n",
        "for i, (input_idx, target_idx) in enumerate(zip(input_example[:10], target_example[:10])):\n",
        "    print('Step {:2d}'.format(i + 1))\n",
        "    print('  input: {} ({:s})'.format(input_idx, repr(tokenizer.sequences_to_texts([[input_idx.numpy()]])[0])))\n",
        "    print('  expected output: {} ({:s})'.format(target_idx, repr(tokenizer.sequences_to_texts([[target_idx.numpy()]])[0])))\n",
        "\n"
      ],
      "execution_count": 12,
      "outputs": [
        {
          "output_type": "stream",
          "text": [
            "Input sequence size: 100\n",
            "Target sequence size: 100\n",
            "\n",
            "Input:   '📗   T i t l e \\n \\n 🥕 \\n \\n •   1   c u p   r i c e \\n •   2   c u p   m i l k \\n •   3   c u p   w h e a'\n",
            "Target:  '  T i t l e \\n \\n 🥕 \\n \\n •   1   c u p   r i c e \\n •   2   c u p   m i l k \\n •   3   c u p   w h e a t'\n",
            "Step  1\n",
            "  input: 18 ('📗')\n",
            "  expected output: 2 (' ')\n",
            "Step  2\n",
            "  input: 2 (' ')\n",
            "  expected output: 33 ('T')\n",
            "Step  3\n",
            "  input: 33 ('T')\n",
            "  expected output: 9 ('i')\n",
            "Step  4\n",
            "  input: 9 ('i')\n",
            "  expected output: 10 ('t')\n",
            "Step  5\n",
            "  input: 10 ('t')\n",
            "  expected output: 5 ('l')\n",
            "Step  6\n",
            "  input: 5 ('l')\n",
            "  expected output: 3 ('e')\n",
            "Step  7\n",
            "  input: 3 ('e')\n",
            "  expected output: 1 ('\\n')\n",
            "Step  8\n",
            "  input: 1 ('\\n')\n",
            "  expected output: 1 ('\\n')\n",
            "Step  9\n",
            "  input: 1 ('\\n')\n",
            "  expected output: 19 ('🥕')\n",
            "Step 10\n",
            "  input: 19 ('🥕')\n",
            "  expected output: 1 ('\\n')\n"
          ],
          "name": "stdout"
        }
      ]
    },
    {
      "cell_type": "markdown",
      "metadata": {
        "id": "xP9GVFbhAv2W"
      },
      "source": [
        "In order to minimize the training time and not use all the memory, we split the dataset into batches."
      ]
    },
    {
      "cell_type": "markdown",
      "metadata": {
        "id": "5B8YGBxrBBIS"
      },
      "source": [
        "Given that we have only a small amount of recipes in our dataset and that we need to reduce the training time as much as possible, we chose a small batch size: 2."
      ]
    },
    {
      "cell_type": "code",
      "metadata": {
        "colab": {
          "base_uri": "https://localhost:8080/"
        },
        "id": "HRQkku-McD0O",
        "outputId": "6bc9b4b7-1167-4e14-bdca-9c0c11e85a55"
      },
      "source": [
        "BATCH_SIZE = 2\n",
        "if DEBUG:\n",
        "    BATCH_SIZE = DEBUG_EXAMPLES\n",
        "\n",
        "SHUFFLE_BUFFER_SIZE = 1000\n",
        "if DEBUG:\n",
        "    SHUFFLE_BUFFER_SIZE = 1\n",
        "    \n",
        "if DEBUG:\n",
        "    dataset_train = dataset_targeted \\\n",
        "        .repeat() \\\n",
        "        .batch(BATCH_SIZE, drop_remainder=True)\n",
        "else:\n",
        "    dataset_train = dataset_targeted \\\n",
        "      .shuffle(SHUFFLE_BUFFER_SIZE) \\\n",
        "      .batch(BATCH_SIZE, drop_remainder=True) \\\n",
        "      .repeat()\n",
        "for input_text, target_text in dataset_train.take(1):\n",
        "    print('1st batch: input_text:', input_text)\n",
        "    print('1st batch: target_text:', target_text)"
      ],
      "execution_count": 13,
      "outputs": [
        {
          "output_type": "stream",
          "text": [
            "1st batch: input_text: tf.Tensor(\n",
            "[[18  2 24  4  4  5  9  4  1  1 19  1  1 12  2 10  3  6 10  1 12  2 32  1\n",
            "  12  2 42  1 12  2 43  1 12  2 48  1  1 20  1  1 16 17  2 23  1 16 17  2\n",
            "   6 25 30 26 15  9  8  6 15 26 31 15 27 29 22 29 27 22 29 27 22 29 27 27\n",
            "   1 52 52 52 52 52 52 52 52 52 52 52 52 52 52 52 52 52 52 52 52 52 52 52\n",
            "  52 52 52 52]\n",
            " [18  2 37  5  4  4 28  9 21 40  2 24  4  5  4  7  2 24  3 21 10  3  7 11\n",
            "   9  3 13  3  1  1 19  1  1 12  2 37  5  4  4 28  9 21 40  2 24  4  5  4\n",
            "   7  2 24  3 21 10  3  7 11  9  3 13  3  1  1 20  1  1 16 17  2 37  5  4\n",
            "   4 28  9 21 40  2 24  4  5  4  7  2 24  3 21 10  3  7 11  9  3 13  3  1\n",
            "  52 52 52 52]], shape=(2, 100), dtype=int32)\n",
            "1st batch: target_text: tf.Tensor(\n",
            "[[ 2 24  4  4  5  9  4  1  1 19  1  1 12  2 10  3  6 10  1 12  2 32  1 12\n",
            "   2 42  1 12  2 43  1 12  2 48  1  1 20  1  1 16 17  2 23  1 16 17  2  6\n",
            "  25 30 26 15  9  8  6 15 26 31 15 27 29 22 29 27 22 29 27 22 29 27 27  1\n",
            "  52 52 52 52 52 52 52 52 52 52 52 52 52 52 52 52 52 52 52 52 52 52 52 52\n",
            "  52 52 52 52]\n",
            " [ 2 37  5  4  4 28  9 21 40  2 24  4  5  4  7  2 24  3 21 10  3  7 11  9\n",
            "   3 13  3  1  1 19  1  1 12  2 37  5  4  4 28  9 21 40  2 24  4  5  4  7\n",
            "   2 24  3 21 10  3  7 11  9  3 13  3  1  1 20  1  1 16 17  2 37  5  4  4\n",
            "  28  9 21 40  2 24  4  5  4  7  2 24  3 21 10  3  7 11  9  3 13  3  1 52\n",
            "  52 52 52 52]], shape=(2, 100), dtype=int32)\n"
          ],
          "name": "stdout"
        }
      ]
    },
    {
      "cell_type": "markdown",
      "metadata": {
        "id": "OkbSwEPrBc_A"
      },
      "source": [
        "### 3. Building the Model"
      ]
    },
    {
      "cell_type": "markdown",
      "metadata": {
        "id": "Kl7CKkS_HatI"
      },
      "source": [
        "Now that the data is cleaned and prepare, we can fit a model to it. \\\\\n",
        "However, we need first to define and build the model that we will use."
      ]
    },
    {
      "cell_type": "markdown",
      "metadata": {
        "id": "A_zcc_uHCH23"
      },
      "source": [
        "In order to create our model, we used a RNN defined by tf.keras.Sequential. Our model works at the character level which means that given a character in the recipe, it will generate the next character."
      ]
    },
    {
      "cell_type": "markdown",
      "metadata": {
        "id": "VSYSeMaUCXDm"
      },
      "source": [
        "We used 3 layers in this model:\n",
        "\n",
        "*   Embedding layer as the input layer\n",
        "*   LSTM layer which is performant for processing natural language\n",
        "*   Dense layer as the output layer which generates logits predicting the log-likelihood of the next character.\n",
        "\n",
        "\n"
      ]
    },
    {
      "cell_type": "markdown",
      "metadata": {
        "id": "SF-uTA1gIW5g"
      },
      "source": [
        "We choose the LSTM layer because the recipes are written in natural language which well handled by LSTM."
      ]
    },
    {
      "cell_type": "code",
      "metadata": {
        "colab": {
          "base_uri": "https://localhost:8080/",
          "height": 0
        },
        "id": "1-2zZScQU9u-",
        "outputId": "371b0e86-e33f-4a64-bf61-cc60422d678c"
      },
      "source": [
        "# Length of the vocabulary in characters.\n",
        "vocab_size = VOCABULARY_SIZE\n",
        "# Embedding dimension.\n",
        "embedding_dim = 256\n",
        "# Number of RNN units.\n",
        "rnn_units = 1024\n",
        "\n",
        "def build_model_1(vocab_size, embedding_dim, rnn_units, batch_size):\n",
        "    model = tf.keras.models.Sequential()\n",
        "\n",
        "    model.add(tf.keras.layers.Embedding(\n",
        "        input_dim=vocab_size,\n",
        "        output_dim=embedding_dim,\n",
        "        batch_input_shape=[batch_size, None]\n",
        "    ))\n",
        "\n",
        "    model.add(tf.keras.layers.LSTM(\n",
        "        units=rnn_units,\n",
        "        return_sequences=True,\n",
        "        stateful=True,\n",
        "        recurrent_initializer=tf.keras.initializers.GlorotNormal()\n",
        "    ))\n",
        "\n",
        "    model.add(tf.keras.layers.Dense(vocab_size))\n",
        "    \n",
        "    return model\n",
        "model = build_model_1(vocab_size, embedding_dim, rnn_units, BATCH_SIZE)\n",
        "model.summary()\n",
        "tf.keras.utils.plot_model(\n",
        "    model,\n",
        "    show_shapes=True,\n",
        "    show_layer_names=True,\n",
        "    to_file='model_1.png'\n",
        ")"
      ],
      "execution_count": 14,
      "outputs": [
        {
          "output_type": "stream",
          "text": [
            "Model: \"sequential\"\n",
            "_________________________________________________________________\n",
            "Layer (type)                 Output Shape              Param #   \n",
            "=================================================================\n",
            "embedding (Embedding)        (2, None, 256)            15104     \n",
            "_________________________________________________________________\n",
            "lstm (LSTM)                  (2, None, 1024)           5246976   \n",
            "_________________________________________________________________\n",
            "dense (Dense)                (2, None, 59)             60475     \n",
            "=================================================================\n",
            "Total params: 5,322,555\n",
            "Trainable params: 5,322,555\n",
            "Non-trainable params: 0\n",
            "_________________________________________________________________\n"
          ],
          "name": "stdout"
        },
        {
          "output_type": "execute_result",
          "data": {
            "image/png": "[encoded data removed]",
            "text/plain": [
              "<IPython.core.display.Image object>"
            ]
          },
          "metadata": {
            "tags": []
          },
          "execution_count": 14
        }
      ]
    },
    {
      "cell_type": "markdown",
      "metadata": {
        "id": "FFnqvg2kIvkU"
      },
      "source": [
        "Now that we have defined a model, we need an optimizer and a loss function."
      ]
    },
    {
      "cell_type": "markdown",
      "metadata": {
        "id": "Ml-bC4F1J7te"
      },
      "source": [
        "We chose the ADAM optimizer and the sparse categorical cross entropy as a loss function"
      ]
    },
    {
      "cell_type": "code",
      "metadata": {
        "id": "9WKbIzxJc4Z3"
      },
      "source": [
        "def loss(labels, logits):\n",
        "    entropy = tf.keras.losses.sparse_categorical_crossentropy(\n",
        "      y_true=labels,\n",
        "      y_pred=logits,\n",
        "      from_logits=True\n",
        "    )\n",
        "    \n",
        "    return entropy\n",
        "adam_optimizer = tf.keras.optimizers.Adam(learning_rate=0.001)\n",
        "\n",
        "model.compile(\n",
        "    optimizer=adam_optimizer,\n",
        "    loss=loss\n",
        ")"
      ],
      "execution_count": 15,
      "outputs": []
    },
    {
      "cell_type": "markdown",
      "metadata": {
        "id": "ZMfX8Lu4KQ3P"
      },
      "source": [
        "### 4. Training"
      ]
    },
    {
      "cell_type": "markdown",
      "metadata": {
        "id": "PqIBoC3jKVc3"
      },
      "source": [
        "Our model is now ready and we need to train it on the data. In this case, we do not need a test set and the model will be trained on all the data."
      ]
    },
    {
      "cell_type": "markdown",
      "metadata": {
        "id": "YonKAGIoKgKP"
      },
      "source": [
        "As we encountered problems with training time, we chose a low number of epochs (50) and a low number of steps per epoch (only 20). This leads to bad results but is was necessary to have an acceptable training time."
      ]
    },
    {
      "cell_type": "code",
      "metadata": {
        "colab": {
          "base_uri": "https://localhost:8080/"
        },
        "id": "iZe_r87QdfsU",
        "outputId": "4b816e98-2702-419f-d713-aa166502f3c6"
      },
      "source": [
        "EPOCHS=50\n",
        "STEPS_PER_EPOCH = 20\n",
        "print('EPOCHS:', EPOCHS)"
      ],
      "execution_count": 17,
      "outputs": [
        {
          "output_type": "stream",
          "text": [
            "EPOCHS: 50\n"
          ],
          "name": "stdout"
        }
      ]
    },
    {
      "cell_type": "markdown",
      "metadata": {
        "id": "MZ0PuDt8vHDW"
      },
      "source": [
        "We create a chekpoint to save the weights that we obtain after the training."
      ]
    },
    {
      "cell_type": "code",
      "metadata": {
        "id": "UIx21u5pWLbj"
      },
      "source": [
        "checkpoint_dir = 'tmp/checkpoints'\n",
        "os.makedirs(checkpoint_dir, exist_ok=True)\n",
        "checkpoint_prefix = os.path.join(checkpoint_dir, 'ckpt_{epoch}')\n",
        "checkpoint_callback=tf.keras.callbacks.ModelCheckpoint(\n",
        "    filepath=checkpoint_prefix,\n",
        "    save_weights_only=True\n",
        ")"
      ],
      "execution_count": 18,
      "outputs": []
    },
    {
      "cell_type": "markdown",
      "metadata": {
        "id": "95gPo9LdLTxf"
      },
      "source": [
        "The following code is used to fit the model to the training set."
      ]
    },
    {
      "cell_type": "code",
      "metadata": {
        "colab": {
          "base_uri": "https://localhost:8080/"
        },
        "id": "kGejBsSkja62",
        "outputId": "2ea501ca-b5c2-4d82-d4f2-37dbb64c2aae"
      },
      "source": [
        "model.fit(\n",
        "    x=dataset_train,\n",
        "    epochs=EPOCHS,\n",
        "    steps_per_epoch=STEPS_PER_EPOCH,\n",
        "    callbacks=[\n",
        "        checkpoint_callback,\n",
        "    ]\n",
        ")\n",
        "\n",
        "model_name = 'recipe_generation_rnn_raw_'  + '.h5'\n",
        "model.save(model_name, save_format='h5')"
      ],
      "execution_count": 20,
      "outputs": [
        {
          "output_type": "stream",
          "text": [
            "Epoch 1/50\n",
            "20/20 [==============================] - 73s 4s/step - loss: 3.5012\n",
            "Epoch 2/50\n",
            "20/20 [==============================] - 71s 4s/step - loss: 2.4291\n",
            "Epoch 3/50\n",
            "20/20 [==============================] - 71s 4s/step - loss: 2.1028\n",
            "Epoch 4/50\n",
            "20/20 [==============================] - 71s 4s/step - loss: 1.9240\n",
            "Epoch 5/50\n",
            "20/20 [==============================] - 75s 4s/step - loss: 1.7533\n",
            "Epoch 6/50\n",
            "20/20 [==============================] - 70s 3s/step - loss: 1.5481\n",
            "Epoch 7/50\n",
            "20/20 [==============================] - 70s 4s/step - loss: 1.5205\n",
            "Epoch 8/50\n",
            "20/20 [==============================] - 71s 4s/step - loss: 1.2544\n",
            "Epoch 9/50\n",
            "20/20 [==============================] - 69s 3s/step - loss: 0.9289\n",
            "Epoch 10/50\n",
            "20/20 [==============================] - 71s 4s/step - loss: 0.9507\n",
            "Epoch 11/50\n",
            "20/20 [==============================] - 70s 3s/step - loss: 0.7586\n",
            "Epoch 12/50\n",
            "20/20 [==============================] - 71s 4s/step - loss: 0.6148\n",
            "Epoch 13/50\n",
            "20/20 [==============================] - 72s 4s/step - loss: 0.6045\n",
            "Epoch 14/50\n",
            "20/20 [==============================] - 72s 4s/step - loss: 0.4534\n",
            "Epoch 15/50\n",
            "20/20 [==============================] - 73s 4s/step - loss: 0.3263\n",
            "Epoch 16/50\n",
            "20/20 [==============================] - 73s 4s/step - loss: 0.2136\n",
            "Epoch 17/50\n",
            "20/20 [==============================] - 72s 4s/step - loss: 0.1356\n",
            "Epoch 18/50\n",
            "20/20 [==============================] - 74s 4s/step - loss: 0.1160\n",
            "Epoch 19/50\n",
            "20/20 [==============================] - 72s 4s/step - loss: 0.0889\n",
            "Epoch 20/50\n",
            "20/20 [==============================] - 71s 4s/step - loss: 0.0872\n",
            "Epoch 21/50\n",
            "20/20 [==============================] - 72s 4s/step - loss: 0.0729\n",
            "Epoch 22/50\n",
            "20/20 [==============================] - 73s 4s/step - loss: 0.0645\n",
            "Epoch 23/50\n",
            "20/20 [==============================] - 72s 4s/step - loss: 0.0564\n",
            "Epoch 24/50\n",
            "20/20 [==============================] - 72s 4s/step - loss: 0.0516\n",
            "Epoch 25/50\n",
            "20/20 [==============================] - 73s 4s/step - loss: 0.0452\n",
            "Epoch 26/50\n",
            "20/20 [==============================] - 76s 4s/step - loss: 0.0442\n",
            "Epoch 27/50\n",
            "20/20 [==============================] - 74s 4s/step - loss: 0.0431\n",
            "Epoch 28/50\n",
            "20/20 [==============================] - 75s 4s/step - loss: 0.0415\n",
            "Epoch 29/50\n",
            "20/20 [==============================] - 76s 4s/step - loss: 0.0400\n",
            "Epoch 30/50\n",
            "20/20 [==============================] - 75s 4s/step - loss: 0.0400\n",
            "Epoch 31/50\n",
            "20/20 [==============================] - 75s 4s/step - loss: 0.0392\n",
            "Epoch 32/50\n",
            "20/20 [==============================] - 75s 4s/step - loss: 0.0363\n",
            "Epoch 33/50\n",
            "20/20 [==============================] - 75s 4s/step - loss: 0.0402\n",
            "Epoch 34/50\n",
            "20/20 [==============================] - 76s 4s/step - loss: 0.0378\n",
            "Epoch 35/50\n",
            "20/20 [==============================] - 74s 4s/step - loss: 0.0394\n",
            "Epoch 36/50\n",
            "20/20 [==============================] - 73s 4s/step - loss: 0.0385\n",
            "Epoch 37/50\n",
            "20/20 [==============================] - 74s 4s/step - loss: 0.0357\n",
            "Epoch 38/50\n",
            "20/20 [==============================] - 73s 4s/step - loss: 0.0370\n",
            "Epoch 39/50\n",
            "20/20 [==============================] - 75s 4s/step - loss: 0.0347\n",
            "Epoch 40/50\n",
            "20/20 [==============================] - 76s 4s/step - loss: 0.0362\n",
            "Epoch 41/50\n",
            "20/20 [==============================] - 75s 4s/step - loss: 0.0371\n",
            "Epoch 42/50\n",
            "20/20 [==============================] - 75s 4s/step - loss: 0.0418\n",
            "Epoch 43/50\n",
            "20/20 [==============================] - 75s 4s/step - loss: 0.0418\n",
            "Epoch 44/50\n",
            "20/20 [==============================] - 76s 4s/step - loss: 0.0376\n",
            "Epoch 45/50\n",
            "20/20 [==============================] - 74s 4s/step - loss: 0.0360\n",
            "Epoch 46/50\n",
            "20/20 [==============================] - 74s 4s/step - loss: 0.0370\n",
            "Epoch 47/50\n",
            "20/20 [==============================] - 71s 4s/step - loss: 0.0356\n",
            "Epoch 48/50\n",
            "20/20 [==============================] - 70s 4s/step - loss: 0.0344\n",
            "Epoch 49/50\n",
            "20/20 [==============================] - 71s 4s/step - loss: 0.0359\n",
            "Epoch 50/50\n",
            "20/20 [==============================] - 72s 4s/step - loss: 0.0356\n"
          ],
          "name": "stdout"
        }
      ]
    },
    {
      "cell_type": "markdown",
      "metadata": {
        "id": "oX4bCtW6LjJb"
      },
      "source": [
        "We can see that with all the concessions we have made, the training time is still around 1h. \\\\\n",
        "With acceptable length limit for the recipes, bactch size, number of epoch and steps per epoch, the training time was more than 3 days."
      ]
    },
    {
      "cell_type": "markdown",
      "metadata": {
        "id": "YsEHpH8JMbNy"
      },
      "source": [
        "### 5. Testing the Model"
      ]
    },
    {
      "cell_type": "markdown",
      "metadata": {
        "id": "j5KS1Fk0R9TX"
      },
      "source": [
        "First, we rebuild the prediction model with a batch size of 1 in order to keep the prediction process simpler. \\\\\n",
        "We load the wheights that we got after the training."
      ]
    },
    {
      "cell_type": "code",
      "metadata": {
        "id": "cMM9_01yjbwM"
      },
      "source": [
        "batch_size = 1\n",
        "model_1_gen = build_model_1(vocab_size, embedding_dim, rnn_units, batch_size)\n",
        "model_1_gen.load_weights(tf.train.latest_checkpoint(checkpoint_dir))\n",
        "model_1_gen.build(tf.TensorShape([batch_size, None]))"
      ],
      "execution_count": 21,
      "outputs": []
    },
    {
      "cell_type": "markdown",
      "metadata": {
        "id": "WBoRtfElsMb6"
      },
      "source": [
        "We can now build the function that we will use in order to call the model. \\\\\n",
        "It will take as input the model, a key ingrient, a length for the output recipe and a temperature which represents how unexpected the final result will be: \\\\\n",
        " The lower the temperature, the more coherent, the result."
      ]
    },
    {
      "cell_type": "code",
      "metadata": {
        "id": "OIOrUSVWjb6y"
      },
      "source": [
        "def generate_text(model, start_string, num_generate = 1000, temperature=1.0):\n",
        "    # Evaluation step (generating text using the learned model)\n",
        "    \n",
        "    padded_start_string = STOP_WORD_TITLE + start_string\n",
        "\n",
        "    # Converting our start string to numbers (vectorizing).\n",
        "    input_indices = np.array(tokenizer.texts_to_sequences([padded_start_string]))\n",
        "\n",
        "    # Empty string to store our results.\n",
        "    text_generated = []\n",
        "\n",
        "    # Here batch size == 1.\n",
        "    model.reset_states()\n",
        "    for char_index in range(num_generate):\n",
        "        predictions = model(input_indices)\n",
        "        # remove the batch dimension\n",
        "        predictions = tf.squeeze(predictions, 0)\n",
        "\n",
        "        # Using a categorical distribution to predict the character returned by the model.\n",
        "        predictions = predictions / temperature\n",
        "        predicted_id = tf.random.categorical(\n",
        "            predictions,\n",
        "            num_samples=1\n",
        "        )[-1,0].numpy()\n",
        "\n",
        "        # We pass the predicted character as the next input to the model\n",
        "        # along with the previous hidden state.\n",
        "        input_indices = tf.expand_dims([predicted_id], 0)\n",
        "        \n",
        "        next_character = tokenizer.sequences_to_texts(input_indices.numpy())[0]\n",
        "\n",
        "        text_generated.append(next_character)\n",
        "\n",
        "    return (padded_start_string + ''.join(text_generated))\n"
      ],
      "execution_count": 22,
      "outputs": []
    },
    {
      "cell_type": "markdown",
      "metadata": {
        "id": "0J8L089Srhqa"
      },
      "source": [
        "Now, we use the model as intended by choosing an ingredient and a length for the receipe."
      ]
    },
    {
      "cell_type": "code",
      "metadata": {
        "colab": {
          "base_uri": "https://localhost:8080/",
          "height": 36
        },
        "id": "BtM4l77iED7H",
        "outputId": "dab1cc7d-5446-4a2d-b185-038605703303"
      },
      "source": [
        "generate_text(\n",
        "                model_1_gen,\n",
        "                start_string='chicken',\n",
        "                num_generate = 101,\n",
        "                temperature=0.2)"
      ],
      "execution_count": 28,
      "outputs": [
        {
          "output_type": "execute_result",
          "data": {
            "application/vnd.google.colaboratory.intrinsic+json": {
              "type": "string"
            },
            "text/plain": [
              "'📗 chicken a rocks gariles\\n\\n📝\\n\\n▪︎ Mix 1 part soda to 1 part ale.\\n␣␣␣␣␣␣␣␣␣␣␣␣␣␣␣␣␣␣␣␣␣␣␣␣␣␣␣␣␣␣␣␣␣␣␣␣␣␣␣␣␣␣␣␣␣␣'"
            ]
          },
          "metadata": {
            "tags": []
          },
          "execution_count": 28
        }
      ]
    },
    {
      "cell_type": "markdown",
      "metadata": {
        "id": "jsk6KciMrypy"
      },
      "source": [
        "As we can see, the result is quite bad but it is mainly due to the fact that we only have 21 recipes left in our base. \\\\\n",
        "Moreover, as the model processes character by character and not word by word, it is logical to have nonsense words such as 'gariles'.\n",
        "\n"
      ]
    },
    {
      "cell_type": "markdown",
      "metadata": {
        "id": "HcEn9PncvTzI"
      },
      "source": [
        "Unfortunately, as the database is as poor as the one we could get (21 recipes only), we are unable to provide interesting stats about our model."
      ]
    },
    {
      "cell_type": "markdown",
      "metadata": {
        "id": "-mm6R2SnqCe5"
      },
      "source": [
        "Finally, we save the model to make it easier to access it later."
      ]
    },
    {
      "cell_type": "code",
      "metadata": {
        "id": "jMkoJY7kFAmj"
      },
      "source": [
        "model_name = 'recipe_generation_rnn.h5'\n",
        "model_1_gen.save(model_name, save_format='h5')"
      ],
      "execution_count": null,
      "outputs": []
    },
    {
      "cell_type": "markdown",
      "metadata": {
        "id": "XOCiW3nFp7Ji"
      },
      "source": [
        "### 6. Creating the App"
      ]
    },
    {
      "cell_type": "markdown",
      "metadata": {
        "id": "FEUrIgJvqUKv"
      },
      "source": [
        "In order to make the model more user friendly, we created a simple app."
      ]
    },
    {
      "cell_type": "code",
      "metadata": {
        "colab": {
          "base_uri": "https://localhost:8080/",
          "height": 17
        },
        "id": "AN6ajb07ETYe",
        "outputId": "3f8b7e37-afb0-4c36-dac4-6328aff07a6a"
      },
      "source": [
        "import panel as pn\n",
        "pn.extension() # loading panel's extension for jupyter compatibility \n",
        "text_input = pn.widgets.TextInput()"
      ],
      "execution_count": null,
      "outputs": [
        {
          "output_type": "display_data",
          "data": {
            "application/javascript": [
              "\n",
              "(function(root) {\n",
              "  function now() {\n",
              "    return new Date();\n",
              "  }\n",
              "\n",
              "  var force = true;\n",
              "\n",
              "  if (typeof root._bokeh_onload_callbacks === \"undefined\" || force === true) {\n",
              "    root._bokeh_onload_callbacks = [];\n",
              "    root._bokeh_is_loading = undefined;\n",
              "  }\n",
              "\n",
              "  if (typeof (root._bokeh_timeout) === \"undefined\" || force === true) {\n",
              "    root._bokeh_timeout = Date.now() + 5000;\n",
              "    root._bokeh_failed_load = false;\n",
              "  }\n",
              "\n",
              "  function run_callbacks() {\n",
              "    try {\n",
              "      root._bokeh_onload_callbacks.forEach(function(callback) {\n",
              "        if (callback != null)\n",
              "          callback();\n",
              "      });\n",
              "    } finally {\n",
              "      delete root._bokeh_onload_callbacks\n",
              "    }\n",
              "    console.debug(\"Bokeh: all callbacks have finished\");\n",
              "  }\n",
              "\n",
              "  function load_libs(css_urls, js_urls, callback) {\n",
              "    if (css_urls == null) css_urls = [];\n",
              "    if (js_urls == null) js_urls = [];\n",
              "\n",
              "    root._bokeh_onload_callbacks.push(callback);\n",
              "    if (root._bokeh_is_loading > 0) {\n",
              "      console.debug(\"Bokeh: BokehJS is being loaded, scheduling callback at\", now());\n",
              "      return null;\n",
              "    }\n",
              "    if (js_urls == null || js_urls.length === 0) {\n",
              "      run_callbacks();\n",
              "      return null;\n",
              "    }\n",
              "    console.debug(\"Bokeh: BokehJS not loaded, scheduling load and callback at\", now());\n",
              "    root._bokeh_is_loading = css_urls.length + js_urls.length;\n",
              "\n",
              "    function on_load() {\n",
              "      root._bokeh_is_loading--;\n",
              "      if (root._bokeh_is_loading === 0) {\n",
              "        console.debug(\"Bokeh: all BokehJS libraries/stylesheets loaded\");\n",
              "        run_callbacks()\n",
              "      }\n",
              "    }\n",
              "\n",
              "    function on_error() {\n",
              "      console.error(\"failed to load \" + url);\n",
              "    }\n",
              "\n",
              "    for (var i = 0; i < css_urls.length; i++) {\n",
              "      var url = css_urls[i];\n",
              "      const element = document.createElement(\"link\");\n",
              "      element.onload = on_load;\n",
              "      element.onerror = on_error;\n",
              "      element.rel = \"stylesheet\";\n",
              "      element.type = \"text/css\";\n",
              "      element.href = url;\n",
              "      console.debug(\"Bokeh: injecting link tag for BokehJS stylesheet: \", url);\n",
              "      document.body.appendChild(element);\n",
              "    }\n",
              "\n",
              "    var skip = [];\n",
              "    if (window.requirejs) {\n",
              "      require([], function() {\n",
              "      })\n",
              "    }\n",
              "    for (var i = 0; i < js_urls.length; i++) {\n",
              "      var url = js_urls[i];\n",
              "      if (skip.indexOf(url) >= 0) { on_load(); continue; }\n",
              "      var element = document.createElement('script');\n",
              "      element.onload = on_load;\n",
              "      element.onerror = on_error;\n",
              "      element.async = false;\n",
              "      element.src = url;\n",
              "      console.debug(\"Bokeh: injecting script tag for BokehJS library: \", url);\n",
              "      document.head.appendChild(element);\n",
              "    }\n",
              "\tif (!js_urls.length) {\n",
              "      on_load()\n",
              "    }\n",
              "  };\n",
              "\n",
              "  function inject_raw_css(css) {\n",
              "    const element = document.createElement(\"style\");\n",
              "    element.appendChild(document.createTextNode(css));\n",
              "    document.body.appendChild(element);\n",
              "  }\n",
              "\n",
              "  var js_urls = [\"https://cdn.bokeh.org/bokeh/release/bokeh-2.2.3.min.js\", \"https://cdn.bokeh.org/bokeh/release/bokeh-widgets-2.2.3.min.js\", \"https://cdn.bokeh.org/bokeh/release/bokeh-tables-2.2.3.min.js\", \"https://unpkg.com/@holoviz/panel@^0.10.2/dist/panel.min.js\"];\n",
              "  var css_urls = [\"https://unpkg.com/@holoviz/panel@0.10.2/dist/css/alerts.css\", \"https://unpkg.com/@holoviz/panel@0.10.2/dist/css/card.css\", \"https://unpkg.com/@holoviz/panel@0.10.2/dist/css/dataframe.css\", \"https://unpkg.com/@holoviz/panel@0.10.2/dist/css/json.css\", \"https://unpkg.com/@holoviz/panel@0.10.2/dist/css/markdown.css\", \"https://unpkg.com/@holoviz/panel@0.10.2/dist/css/widgets.css\"];\n",
              "\n",
              "  var inline_js = [\n",
              "    function(Bokeh) {\n",
              "      Bokeh.set_log_level(\"info\");\n",
              "    },\n",
              "    function(Bokeh) {} // ensure no trailing comma for IE\n",
              "  ];\n",
              "\n",
              "  function run_inline_js() {\n",
              "    if ((root.Bokeh !== undefined) || (force === true)) {\n",
              "      for (var i = 0; i < inline_js.length; i++) {\n",
              "        inline_js[i].call(root, root.Bokeh);\n",
              "      }} else if (Date.now() < root._bokeh_timeout) {\n",
              "      setTimeout(run_inline_js, 100);\n",
              "    } else if (!root._bokeh_failed_load) {\n",
              "      console.log(\"Bokeh: BokehJS failed to load within specified timeout.\");\n",
              "      root._bokeh_failed_load = true;\n",
              "    }\n",
              "  }\n",
              "\n",
              "  if (root._bokeh_is_loading === 0) {\n",
              "    console.debug(\"Bokeh: BokehJS loaded, going straight to plotting\");\n",
              "    run_inline_js();\n",
              "  } else {\n",
              "    load_libs(css_urls, js_urls, function() {\n",
              "      console.debug(\"Bokeh: BokehJS plotting callback run at\", now());\n",
              "      run_inline_js();\n",
              "    });\n",
              "  }\n",
              "}(window));"
            ],
            "application/vnd.holoviews_load.v0+json": "\n(function(root) {\n  function now() {\n    return new Date();\n  }\n\n  var force = true;\n\n  if (typeof root._bokeh_onload_callbacks === \"undefined\" || force === true) {\n    root._bokeh_onload_callbacks = [];\n    root._bokeh_is_loading = undefined;\n  }\n\n  if (typeof (root._bokeh_timeout) === \"undefined\" || force === true) {\n    root._bokeh_timeout = Date.now() + 5000;\n    root._bokeh_failed_load = false;\n  }\n\n  function run_callbacks() {\n    try {\n      root._bokeh_onload_callbacks.forEach(function(callback) {\n        if (callback != null)\n          callback();\n      });\n    } finally {\n      delete root._bokeh_onload_callbacks\n    }\n    console.debug(\"Bokeh: all callbacks have finished\");\n  }\n\n  function load_libs(css_urls, js_urls, callback) {\n    if (css_urls == null) css_urls = [];\n    if (js_urls == null) js_urls = [];\n\n    root._bokeh_onload_callbacks.push(callback);\n    if (root._bokeh_is_loading > 0) {\n      console.debug(\"Bokeh: BokehJS is being loaded, scheduling callback at\", now());\n      return null;\n    }\n    if (js_urls == null || js_urls.length === 0) {\n      run_callbacks();\n      return null;\n    }\n    console.debug(\"Bokeh: BokehJS not loaded, scheduling load and callback at\", now());\n    root._bokeh_is_loading = css_urls.length + js_urls.length;\n\n    function on_load() {\n      root._bokeh_is_loading--;\n      if (root._bokeh_is_loading === 0) {\n        console.debug(\"Bokeh: all BokehJS libraries/stylesheets loaded\");\n        run_callbacks()\n      }\n    }\n\n    function on_error() {\n      console.error(\"failed to load \" + url);\n    }\n\n    for (var i = 0; i < css_urls.length; i++) {\n      var url = css_urls[i];\n      const element = document.createElement(\"link\");\n      element.onload = on_load;\n      element.onerror = on_error;\n      element.rel = \"stylesheet\";\n      element.type = \"text/css\";\n      element.href = url;\n      console.debug(\"Bokeh: injecting link tag for BokehJS stylesheet: \", url);\n      document.body.appendChild(element);\n    }\n\n    var skip = [];\n    if (window.requirejs) {\n      require([], function() {\n      })\n    }\n    for (var i = 0; i < js_urls.length; i++) {\n      var url = js_urls[i];\n      if (skip.indexOf(url) >= 0) { on_load(); continue; }\n      var element = document.createElement('script');\n      element.onload = on_load;\n      element.onerror = on_error;\n      element.async = false;\n      element.src = url;\n      console.debug(\"Bokeh: injecting script tag for BokehJS library: \", url);\n      document.head.appendChild(element);\n    }\n\tif (!js_urls.length) {\n      on_load()\n    }\n  };\n\n  function inject_raw_css(css) {\n    const element = document.createElement(\"style\");\n    element.appendChild(document.createTextNode(css));\n    document.body.appendChild(element);\n  }\n\n  var js_urls = [\"https://cdn.bokeh.org/bokeh/release/bokeh-2.2.3.min.js\", \"https://cdn.bokeh.org/bokeh/release/bokeh-widgets-2.2.3.min.js\", \"https://cdn.bokeh.org/bokeh/release/bokeh-tables-2.2.3.min.js\", \"https://unpkg.com/@holoviz/panel@^0.10.2/dist/panel.min.js\"];\n  var css_urls = [\"https://unpkg.com/@holoviz/panel@0.10.2/dist/css/alerts.css\", \"https://unpkg.com/@holoviz/panel@0.10.2/dist/css/card.css\", \"https://unpkg.com/@holoviz/panel@0.10.2/dist/css/dataframe.css\", \"https://unpkg.com/@holoviz/panel@0.10.2/dist/css/json.css\", \"https://unpkg.com/@holoviz/panel@0.10.2/dist/css/markdown.css\", \"https://unpkg.com/@holoviz/panel@0.10.2/dist/css/widgets.css\"];\n\n  var inline_js = [\n    function(Bokeh) {\n      Bokeh.set_log_level(\"info\");\n    },\n    function(Bokeh) {} // ensure no trailing comma for IE\n  ];\n\n  function run_inline_js() {\n    if ((root.Bokeh !== undefined) || (force === true)) {\n      for (var i = 0; i < inline_js.length; i++) {\n        inline_js[i].call(root, root.Bokeh);\n      }} else if (Date.now() < root._bokeh_timeout) {\n      setTimeout(run_inline_js, 100);\n    } else if (!root._bokeh_failed_load) {\n      console.log(\"Bokeh: BokehJS failed to load within specified timeout.\");\n      root._bokeh_failed_load = true;\n    }\n  }\n\n  if (root._bokeh_is_loading === 0) {\n    console.debug(\"Bokeh: BokehJS loaded, going straight to plotting\");\n    run_inline_js();\n  } else {\n    load_libs(css_urls, js_urls, function() {\n      console.debug(\"Bokeh: BokehJS plotting callback run at\", now());\n      run_inline_js();\n    });\n  }\n}(window));"
          },
          "metadata": {
            "tags": []
          }
        },
        {
          "output_type": "display_data",
          "data": {
            "application/javascript": [
              "\n",
              "if ((window.PyViz === undefined) || (window.PyViz instanceof HTMLElement)) {\n",
              "  window.PyViz = {comms: {}, comm_status:{}, kernels:{}, receivers: {}, plot_index: []}\n",
              "}\n",
              "\n",
              "\n",
              "    function JupyterCommManager() {\n",
              "    }\n",
              "\n",
              "    JupyterCommManager.prototype.register_target = function(plot_id, comm_id, msg_handler) {\n",
              "      if (window.comm_manager || ((window.Jupyter !== undefined) && (Jupyter.notebook.kernel != null))) {\n",
              "        var comm_manager = window.comm_manager || Jupyter.notebook.kernel.comm_manager;\n",
              "        comm_manager.register_target(comm_id, function(comm) {\n",
              "          comm.on_msg(msg_handler);\n",
              "        });\n",
              "      } else if ((plot_id in window.PyViz.kernels) && (window.PyViz.kernels[plot_id])) {\n",
              "        window.PyViz.kernels[plot_id].registerCommTarget(comm_id, function(comm) {\n",
              "          comm.onMsg = msg_handler;\n",
              "        });\n",
              "      } else if (typeof google != 'undefined' && google.colab.kernel != null) {\n",
              "        google.colab.kernel.comms.registerTarget(comm_id, (comm) => {\n",
              "          var messages = comm.messages[Symbol.asyncIterator]();\n",
              "          function processIteratorResult(result) {\n",
              "            var message = result.value;\n",
              "            console.log(message)\n",
              "            var content = {data: message.data, comm_id};\n",
              "            var buffers = []\n",
              "            for (var buffer of message.buffers || []) {\n",
              "              buffers.push(new DataView(buffer))\n",
              "            }\n",
              "            var metadata = message.metadata || {};\n",
              "            var msg = {content, buffers, metadata}\n",
              "            msg_handler(msg);\n",
              "            return messages.next().then(processIteratorResult);\n",
              "          }\n",
              "          return messages.next().then(processIteratorResult);\n",
              "        })\n",
              "      }\n",
              "    }\n",
              "\n",
              "    JupyterCommManager.prototype.get_client_comm = function(plot_id, comm_id, msg_handler) {\n",
              "      if (comm_id in window.PyViz.comms) {\n",
              "        return window.PyViz.comms[comm_id];\n",
              "      } else if (window.comm_manager || ((window.Jupyter !== undefined) && (Jupyter.notebook.kernel != null))) {\n",
              "        var comm_manager = window.comm_manager || Jupyter.notebook.kernel.comm_manager;\n",
              "        var comm = comm_manager.new_comm(comm_id, {}, {}, {}, comm_id);\n",
              "        if (msg_handler) {\n",
              "          comm.on_msg(msg_handler);\n",
              "        }\n",
              "      } else if ((plot_id in window.PyViz.kernels) && (window.PyViz.kernels[plot_id])) {\n",
              "        var comm = window.PyViz.kernels[plot_id].connectToComm(comm_id);\n",
              "        comm.open();\n",
              "        if (msg_handler) {\n",
              "          comm.onMsg = msg_handler;\n",
              "        }\n",
              "      } else if (typeof google != 'undefined' && google.colab.kernel != null) {\n",
              "        var comm_promise = google.colab.kernel.comms.open(comm_id)\n",
              "        comm_promise.then((comm) => {\n",
              "          window.PyViz.comms[comm_id] = comm;\n",
              "          if (msg_handler) {\n",
              "            var messages = comm.messages[Symbol.asyncIterator]();\n",
              "            function processIteratorResult(result) {\n",
              "              var message = result.value;\n",
              "              var content = {data: message.data};\n",
              "              var metadata = message.metadata || {comm_id};\n",
              "              var msg = {content, metadata}\n",
              "              msg_handler(msg);\n",
              "              return messages.next().then(processIteratorResult);\n",
              "            }\n",
              "            return messages.next().then(processIteratorResult);\n",
              "          }\n",
              "        }) \n",
              "        var sendClosure = (data, metadata, buffers, disposeOnDone) => {\n",
              "          return comm_promise.then((comm) => {\n",
              "            comm.send(data, metadata, buffers, disposeOnDone);\n",
              "          });\n",
              "        };\n",
              "        var comm = {\n",
              "          send: sendClosure\n",
              "        };\n",
              "      }\n",
              "      window.PyViz.comms[comm_id] = comm;\n",
              "      return comm;\n",
              "    }\n",
              "    window.PyViz.comm_manager = new JupyterCommManager();\n",
              "    \n",
              "\n",
              "\n",
              "var JS_MIME_TYPE = 'application/javascript';\n",
              "var HTML_MIME_TYPE = 'text/html';\n",
              "var EXEC_MIME_TYPE = 'application/vnd.holoviews_exec.v0+json';\n",
              "var CLASS_NAME = 'output';\n",
              "\n",
              "/**\n",
              " * Render data to the DOM node\n",
              " */\n",
              "function render(props, node) {\n",
              "  var div = document.createElement(\"div\");\n",
              "  var script = document.createElement(\"script\");\n",
              "  node.appendChild(div);\n",
              "  node.appendChild(script);\n",
              "}\n",
              "\n",
              "/**\n",
              " * Handle when a new output is added\n",
              " */\n",
              "function handle_add_output(event, handle) {\n",
              "  var output_area = handle.output_area;\n",
              "  var output = handle.output;\n",
              "  if ((output.data == undefined) || (!output.data.hasOwnProperty(EXEC_MIME_TYPE))) {\n",
              "    return\n",
              "  }\n",
              "  var id = output.metadata[EXEC_MIME_TYPE][\"id\"];\n",
              "  var toinsert = output_area.element.find(\".\" + CLASS_NAME.split(' ')[0]);\n",
              "  if (id !== undefined) {\n",
              "    var nchildren = toinsert.length;\n",
              "    var html_node = toinsert[nchildren-1].children[0];\n",
              "    html_node.innerHTML = output.data[HTML_MIME_TYPE];\n",
              "    var scripts = [];\n",
              "    var nodelist = html_node.querySelectorAll(\"script\");\n",
              "    for (var i in nodelist) {\n",
              "      if (nodelist.hasOwnProperty(i)) {\n",
              "        scripts.push(nodelist[i])\n",
              "      }\n",
              "    }\n",
              "\n",
              "    scripts.forEach( function (oldScript) {\n",
              "      var newScript = document.createElement(\"script\");\n",
              "      var attrs = [];\n",
              "      var nodemap = oldScript.attributes;\n",
              "      for (var j in nodemap) {\n",
              "        if (nodemap.hasOwnProperty(j)) {\n",
              "          attrs.push(nodemap[j])\n",
              "        }\n",
              "      }\n",
              "      attrs.forEach(function(attr) { newScript.setAttribute(attr.name, attr.value) });\n",
              "      newScript.appendChild(document.createTextNode(oldScript.innerHTML));\n",
              "      oldScript.parentNode.replaceChild(newScript, oldScript);\n",
              "    });\n",
              "    if (JS_MIME_TYPE in output.data) {\n",
              "      toinsert[nchildren-1].children[1].textContent = output.data[JS_MIME_TYPE];\n",
              "    }\n",
              "    output_area._hv_plot_id = id;\n",
              "    if ((window.Bokeh !== undefined) && (id in Bokeh.index)) {\n",
              "      window.PyViz.plot_index[id] = Bokeh.index[id];\n",
              "    } else {\n",
              "      window.PyViz.plot_index[id] = null;\n",
              "    }\n",
              "  } else if (output.metadata[EXEC_MIME_TYPE][\"server_id\"] !== undefined) {\n",
              "    var bk_div = document.createElement(\"div\");\n",
              "    bk_div.innerHTML = output.data[HTML_MIME_TYPE];\n",
              "    var script_attrs = bk_div.children[0].attributes;\n",
              "    for (var i = 0; i < script_attrs.length; i++) {\n",
              "      toinsert[toinsert.length - 1].childNodes[1].setAttribute(script_attrs[i].name, script_attrs[i].value);\n",
              "    }\n",
              "    // store reference to server id on output_area\n",
              "    output_area._bokeh_server_id = output.metadata[EXEC_MIME_TYPE][\"server_id\"];\n",
              "  }\n",
              "}\n",
              "\n",
              "/**\n",
              " * Handle when an output is cleared or removed\n",
              " */\n",
              "function handle_clear_output(event, handle) {\n",
              "  var id = handle.cell.output_area._hv_plot_id;\n",
              "  var server_id = handle.cell.output_area._bokeh_server_id;\n",
              "  if (((id === undefined) || !(id in PyViz.plot_index)) && (server_id !== undefined)) { return; }\n",
              "  var comm = window.PyViz.comm_manager.get_client_comm(\"hv-extension-comm\", \"hv-extension-comm\", function () {});\n",
              "  if (server_id !== null) {\n",
              "    comm.send({event_type: 'server_delete', 'id': server_id});\n",
              "    return;\n",
              "  } else if (comm !== null) {\n",
              "    comm.send({event_type: 'delete', 'id': id});\n",
              "  }\n",
              "  delete PyViz.plot_index[id];\n",
              "  if ((window.Bokeh !== undefined) & (id in window.Bokeh.index)) {\n",
              "    var doc = window.Bokeh.index[id].model.document\n",
              "    doc.clear();\n",
              "    const i = window.Bokeh.documents.indexOf(doc);\n",
              "    if (i > -1) {\n",
              "      window.Bokeh.documents.splice(i, 1);\n",
              "    }\n",
              "  }\n",
              "}\n",
              "\n",
              "/**\n",
              " * Handle kernel restart event\n",
              " */\n",
              "function handle_kernel_cleanup(event, handle) {\n",
              "  delete PyViz.comms[\"hv-extension-comm\"];\n",
              "  window.PyViz.plot_index = {}\n",
              "}\n",
              "\n",
              "/**\n",
              " * Handle update_display_data messages\n",
              " */\n",
              "function handle_update_output(event, handle) {\n",
              "  handle_clear_output(event, {cell: {output_area: handle.output_area}})\n",
              "  handle_add_output(event, handle)\n",
              "}\n",
              "\n",
              "function register_renderer(events, OutputArea) {\n",
              "  function append_mime(data, metadata, element) {\n",
              "    // create a DOM node to render to\n",
              "    var toinsert = this.create_output_subarea(\n",
              "    metadata,\n",
              "    CLASS_NAME,\n",
              "    EXEC_MIME_TYPE\n",
              "    );\n",
              "    this.keyboard_manager.register_events(toinsert);\n",
              "    // Render to node\n",
              "    var props = {data: data, metadata: metadata[EXEC_MIME_TYPE]};\n",
              "    render(props, toinsert[0]);\n",
              "    element.append(toinsert);\n",
              "    return toinsert\n",
              "  }\n",
              "\n",
              "  events.on('output_added.OutputArea', handle_add_output);\n",
              "  events.on('output_updated.OutputArea', handle_update_output);\n",
              "  events.on('clear_output.CodeCell', handle_clear_output);\n",
              "  events.on('delete.Cell', handle_clear_output);\n",
              "  events.on('kernel_ready.Kernel', handle_kernel_cleanup);\n",
              "\n",
              "  OutputArea.prototype.register_mime_type(EXEC_MIME_TYPE, append_mime, {\n",
              "    safe: true,\n",
              "    index: 0\n",
              "  });\n",
              "}\n",
              "\n",
              "if (window.Jupyter !== undefined) {\n",
              "  try {\n",
              "    var events = require('base/js/events');\n",
              "    var OutputArea = require('notebook/js/outputarea').OutputArea;\n",
              "    if (OutputArea.prototype.mime_types().indexOf(EXEC_MIME_TYPE) == -1) {\n",
              "      register_renderer(events, OutputArea);\n",
              "    }\n",
              "  } catch(err) {\n",
              "  }\n",
              "}\n"
            ],
            "application/vnd.holoviews_load.v0+json": "\nif ((window.PyViz === undefined) || (window.PyViz instanceof HTMLElement)) {\n  window.PyViz = {comms: {}, comm_status:{}, kernels:{}, receivers: {}, plot_index: []}\n}\n\n\n    function JupyterCommManager() {\n    }\n\n    JupyterCommManager.prototype.register_target = function(plot_id, comm_id, msg_handler) {\n      if (window.comm_manager || ((window.Jupyter !== undefined) && (Jupyter.notebook.kernel != null))) {\n        var comm_manager = window.comm_manager || Jupyter.notebook.kernel.comm_manager;\n        comm_manager.register_target(comm_id, function(comm) {\n          comm.on_msg(msg_handler);\n        });\n      } else if ((plot_id in window.PyViz.kernels) && (window.PyViz.kernels[plot_id])) {\n        window.PyViz.kernels[plot_id].registerCommTarget(comm_id, function(comm) {\n          comm.onMsg = msg_handler;\n        });\n      } else if (typeof google != 'undefined' && google.colab.kernel != null) {\n        google.colab.kernel.comms.registerTarget(comm_id, (comm) => {\n          var messages = comm.messages[Symbol.asyncIterator]();\n          function processIteratorResult(result) {\n            var message = result.value;\n            console.log(message)\n            var content = {data: message.data, comm_id};\n            var buffers = []\n            for (var buffer of message.buffers || []) {\n              buffers.push(new DataView(buffer))\n            }\n            var metadata = message.metadata || {};\n            var msg = {content, buffers, metadata}\n            msg_handler(msg);\n            return messages.next().then(processIteratorResult);\n          }\n          return messages.next().then(processIteratorResult);\n        })\n      }\n    }\n\n    JupyterCommManager.prototype.get_client_comm = function(plot_id, comm_id, msg_handler) {\n      if (comm_id in window.PyViz.comms) {\n        return window.PyViz.comms[comm_id];\n      } else if (window.comm_manager || ((window.Jupyter !== undefined) && (Jupyter.notebook.kernel != null))) {\n        var comm_manager = window.comm_manager || Jupyter.notebook.kernel.comm_manager;\n        var comm = comm_manager.new_comm(comm_id, {}, {}, {}, comm_id);\n        if (msg_handler) {\n          comm.on_msg(msg_handler);\n        }\n      } else if ((plot_id in window.PyViz.kernels) && (window.PyViz.kernels[plot_id])) {\n        var comm = window.PyViz.kernels[plot_id].connectToComm(comm_id);\n        comm.open();\n        if (msg_handler) {\n          comm.onMsg = msg_handler;\n        }\n      } else if (typeof google != 'undefined' && google.colab.kernel != null) {\n        var comm_promise = google.colab.kernel.comms.open(comm_id)\n        comm_promise.then((comm) => {\n          window.PyViz.comms[comm_id] = comm;\n          if (msg_handler) {\n            var messages = comm.messages[Symbol.asyncIterator]();\n            function processIteratorResult(result) {\n              var message = result.value;\n              var content = {data: message.data};\n              var metadata = message.metadata || {comm_id};\n              var msg = {content, metadata}\n              msg_handler(msg);\n              return messages.next().then(processIteratorResult);\n            }\n            return messages.next().then(processIteratorResult);\n          }\n        }) \n        var sendClosure = (data, metadata, buffers, disposeOnDone) => {\n          return comm_promise.then((comm) => {\n            comm.send(data, metadata, buffers, disposeOnDone);\n          });\n        };\n        var comm = {\n          send: sendClosure\n        };\n      }\n      window.PyViz.comms[comm_id] = comm;\n      return comm;\n    }\n    window.PyViz.comm_manager = new JupyterCommManager();\n    \n\n\nvar JS_MIME_TYPE = 'application/javascript';\nvar HTML_MIME_TYPE = 'text/html';\nvar EXEC_MIME_TYPE = 'application/vnd.holoviews_exec.v0+json';\nvar CLASS_NAME = 'output';\n\n/**\n * Render data to the DOM node\n */\nfunction render(props, node) {\n  var div = document.createElement(\"div\");\n  var script = document.createElement(\"script\");\n  node.appendChild(div);\n  node.appendChild(script);\n}\n\n/**\n * Handle when a new output is added\n */\nfunction handle_add_output(event, handle) {\n  var output_area = handle.output_area;\n  var output = handle.output;\n  if ((output.data == undefined) || (!output.data.hasOwnProperty(EXEC_MIME_TYPE))) {\n    return\n  }\n  var id = output.metadata[EXEC_MIME_TYPE][\"id\"];\n  var toinsert = output_area.element.find(\".\" + CLASS_NAME.split(' ')[0]);\n  if (id !== undefined) {\n    var nchildren = toinsert.length;\n    var html_node = toinsert[nchildren-1].children[0];\n    html_node.innerHTML = output.data[HTML_MIME_TYPE];\n    var scripts = [];\n    var nodelist = html_node.querySelectorAll(\"script\");\n    for (var i in nodelist) {\n      if (nodelist.hasOwnProperty(i)) {\n        scripts.push(nodelist[i])\n      }\n    }\n\n    scripts.forEach( function (oldScript) {\n      var newScript = document.createElement(\"script\");\n      var attrs = [];\n      var nodemap = oldScript.attributes;\n      for (var j in nodemap) {\n        if (nodemap.hasOwnProperty(j)) {\n          attrs.push(nodemap[j])\n        }\n      }\n      attrs.forEach(function(attr) { newScript.setAttribute(attr.name, attr.value) });\n      newScript.appendChild(document.createTextNode(oldScript.innerHTML));\n      oldScript.parentNode.replaceChild(newScript, oldScript);\n    });\n    if (JS_MIME_TYPE in output.data) {\n      toinsert[nchildren-1].children[1].textContent = output.data[JS_MIME_TYPE];\n    }\n    output_area._hv_plot_id = id;\n    if ((window.Bokeh !== undefined) && (id in Bokeh.index)) {\n      window.PyViz.plot_index[id] = Bokeh.index[id];\n    } else {\n      window.PyViz.plot_index[id] = null;\n    }\n  } else if (output.metadata[EXEC_MIME_TYPE][\"server_id\"] !== undefined) {\n    var bk_div = document.createElement(\"div\");\n    bk_div.innerHTML = output.data[HTML_MIME_TYPE];\n    var script_attrs = bk_div.children[0].attributes;\n    for (var i = 0; i < script_attrs.length; i++) {\n      toinsert[toinsert.length - 1].childNodes[1].setAttribute(script_attrs[i].name, script_attrs[i].value);\n    }\n    // store reference to server id on output_area\n    output_area._bokeh_server_id = output.metadata[EXEC_MIME_TYPE][\"server_id\"];\n  }\n}\n\n/**\n * Handle when an output is cleared or removed\n */\nfunction handle_clear_output(event, handle) {\n  var id = handle.cell.output_area._hv_plot_id;\n  var server_id = handle.cell.output_area._bokeh_server_id;\n  if (((id === undefined) || !(id in PyViz.plot_index)) && (server_id !== undefined)) { return; }\n  var comm = window.PyViz.comm_manager.get_client_comm(\"hv-extension-comm\", \"hv-extension-comm\", function () {});\n  if (server_id !== null) {\n    comm.send({event_type: 'server_delete', 'id': server_id});\n    return;\n  } else if (comm !== null) {\n    comm.send({event_type: 'delete', 'id': id});\n  }\n  delete PyViz.plot_index[id];\n  if ((window.Bokeh !== undefined) & (id in window.Bokeh.index)) {\n    var doc = window.Bokeh.index[id].model.document\n    doc.clear();\n    const i = window.Bokeh.documents.indexOf(doc);\n    if (i > -1) {\n      window.Bokeh.documents.splice(i, 1);\n    }\n  }\n}\n\n/**\n * Handle kernel restart event\n */\nfunction handle_kernel_cleanup(event, handle) {\n  delete PyViz.comms[\"hv-extension-comm\"];\n  window.PyViz.plot_index = {}\n}\n\n/**\n * Handle update_display_data messages\n */\nfunction handle_update_output(event, handle) {\n  handle_clear_output(event, {cell: {output_area: handle.output_area}})\n  handle_add_output(event, handle)\n}\n\nfunction register_renderer(events, OutputArea) {\n  function append_mime(data, metadata, element) {\n    // create a DOM node to render to\n    var toinsert = this.create_output_subarea(\n    metadata,\n    CLASS_NAME,\n    EXEC_MIME_TYPE\n    );\n    this.keyboard_manager.register_events(toinsert);\n    // Render to node\n    var props = {data: data, metadata: metadata[EXEC_MIME_TYPE]};\n    render(props, toinsert[0]);\n    element.append(toinsert);\n    return toinsert\n  }\n\n  events.on('output_added.OutputArea', handle_add_output);\n  events.on('output_updated.OutputArea', handle_update_output);\n  events.on('clear_output.CodeCell', handle_clear_output);\n  events.on('delete.Cell', handle_clear_output);\n  events.on('kernel_ready.Kernel', handle_kernel_cleanup);\n\n  OutputArea.prototype.register_mime_type(EXEC_MIME_TYPE, append_mime, {\n    safe: true,\n    index: 0\n  });\n}\n\nif (window.Jupyter !== undefined) {\n  try {\n    var events = require('base/js/events');\n    var OutputArea = require('notebook/js/outputarea').OutputArea;\n    if (OutputArea.prototype.mime_types().indexOf(EXEC_MIME_TYPE) == -1) {\n      register_renderer(events, OutputArea);\n    }\n  } catch(err) {\n  }\n}\n"
          },
          "metadata": {
            "tags": []
          }
        }
      ]
    },
    {
      "cell_type": "code",
      "metadata": {
        "id": "_q6mDIZzETjQ"
      },
      "source": [
        "generated_text = pn.pane.Markdown(object=text_input.value)"
      ],
      "execution_count": null,
      "outputs": []
    },
    {
      "cell_type": "code",
      "metadata": {
        "colab": {
          "base_uri": "https://localhost:8080/"
        },
        "id": "00HpIOZdESQ-",
        "outputId": "a9a7e7ab-a4ae-41af-ac68-e200409d5c6a"
      },
      "source": [
        "text_input.link(generated_text, value='object')"
      ],
      "execution_count": null,
      "outputs": [
        {
          "output_type": "execute_result",
          "data": {
            "text/plain": [
              "Watcher(inst=TextInput(), cls=<class 'panel.widgets.input.TextInput'>, fn=<function Reactive.link.<locals>.link at 0x64d8d77a0>, mode='args', onlychanged=True, parameter_names=('value',), what='value', queued=False)"
            ]
          },
          "metadata": {
            "tags": []
          },
          "execution_count": 26
        }
      ]
    },
    {
      "cell_type": "code",
      "metadata": {
        "colab": {
          "base_uri": "https://localhost:8080/",
          "height": 17
        },
        "id": "MnqejsrmJRlq",
        "outputId": "68592033-3dac-47b6-8dfc-966dfb9382d8"
      },
      "source": [
        "text_input"
      ],
      "execution_count": null,
      "outputs": [
        {
          "output_type": "display_data",
          "data": {},
          "metadata": {
            "tags": []
          }
        },
        {
          "output_type": "execute_result",
          "data": {
            "application/vnd.holoviews_exec.v0+json": "",
            "text/html": [
              "<div id='1001'>\n",
              "\n",
              "\n",
              "\n",
              "\n",
              "\n",
              "  <div class=\"bk-root\" id=\"9c97fb1c-143d-4e7e-81cf-c1a3e7148929\" data-root-id=\"1001\"></div>\n",
              "</div>\n",
              "<script type=\"application/javascript\">(function(root) {\n",
              "  function embed_document(root) {\n",
              "    var docs_json = {\"4d8c0d87-4c39-4642-828f-2d2b3e5d8791\":{\"roots\":{\"references\":[{\"attributes\":{\"client_comm_id\":\"081cb722518945c7bec461c256f6a7e2\",\"comm_id\":\"0cfdf5a9d05c4faaa71db2136d41139f\",\"plot_id\":\"1001\"},\"id\":\"1002\",\"type\":\"panel.models.comm_manager.CommManager\"},{\"attributes\":{\"reload\":false},\"id\":\"1003\",\"type\":\"panel.models.location.Location\"},{\"attributes\":{\"margin\":[5,10,5,10]},\"id\":\"1001\",\"type\":\"TextInput\"}],\"root_ids\":[\"1001\",\"1002\",\"1003\"]},\"title\":\"Bokeh Application\",\"version\":\"2.2.3\"}};\n",
              "    var render_items = [{\"docid\":\"4d8c0d87-4c39-4642-828f-2d2b3e5d8791\",\"root_ids\":[\"1001\"],\"roots\":{\"1001\":\"9c97fb1c-143d-4e7e-81cf-c1a3e7148929\"}}];\n",
              "    root.Bokeh.embed.embed_items_notebook(docs_json, render_items);\n",
              "  }\n",
              "  if (root.Bokeh !== undefined && root.Bokeh.Panel !== undefined) {\n",
              "    embed_document(root);\n",
              "  } else {\n",
              "    var attempts = 0;\n",
              "    var timer = setInterval(function(root) {\n",
              "      if (root.Bokeh !== undefined && root.Bokeh.Panel !== undefined) {\n",
              "        clearInterval(timer);\n",
              "        embed_document(root);\n",
              "      } else if (document.readyState == \"complete\") {\n",
              "        attempts++;\n",
              "        if (attempts > 100) {\n",
              "          clearInterval(timer);\n",
              "          console.log(\"Bokeh: ERROR: Unable to run BokehJS code because BokehJS library is missing\");\n",
              "        }\n",
              "      }\n",
              "    }, 10, root)\n",
              "  }\n",
              "})(window);</script>"
            ],
            "text/plain": [
              "TextInput()"
            ]
          },
          "metadata": {
            "tags": [],
            "application/vnd.holoviews_exec.v0+json": {
              "id": "1001"
            }
          },
          "execution_count": 27
        }
      ]
    },
    {
      "cell_type": "code",
      "metadata": {
        "id": "E-YXq8HGEXvI"
      },
      "source": [
        "button = pn.widgets.Button(name=\"Generate Recipe\",button_type=\"primary\")"
      ],
      "execution_count": null,
      "outputs": []
    },
    {
      "cell_type": "code",
      "metadata": {
        "id": "jyPgd0K3oY8Y"
      },
      "source": [
        "slider = pn.widgets.FloatSlider(name='Choose your recipe length', width=200,start=0,end=1000)"
      ],
      "execution_count": null,
      "outputs": []
    },
    {
      "cell_type": "code",
      "metadata": {
        "id": "DlmWYR-LoY8Z",
        "outputId": "ec970733-6be5-4158-e58e-2d87c4e54573"
      },
      "source": [
        "slider"
      ],
      "execution_count": null,
      "outputs": [
        {
          "output_type": "display_data",
          "data": {},
          "metadata": {
            "tags": []
          }
        },
        {
          "output_type": "execute_result",
          "data": {
            "application/vnd.holoviews_exec.v0+json": "",
            "text/html": [
              "<div id='1004'>\n",
              "\n",
              "\n",
              "\n",
              "\n",
              "\n",
              "  <div class=\"bk-root\" id=\"8be62ac0-2fda-4ddb-a230-fa8b2e0f1693\" data-root-id=\"1004\"></div>\n",
              "</div>\n",
              "<script type=\"application/javascript\">(function(root) {\n",
              "  function embed_document(root) {\n",
              "    var docs_json = {\"c565f6cd-eb43-4d69-8f40-81e1337c2d59\":{\"roots\":{\"references\":[{\"attributes\":{\"client_comm_id\":\"b477e95b72a947a0b07d419d810a14b3\",\"comm_id\":\"413b80729ddc40b2b2741956c0cca682\",\"plot_id\":\"1004\"},\"id\":\"1005\",\"type\":\"panel.models.comm_manager.CommManager\"},{\"attributes\":{\"end\":1000,\"format\":\"0[.]00\",\"margin\":[5,10,5,10],\"min_width\":200,\"start\":0,\"step\":0.1,\"title\":\"Choose your recipe length\",\"value\":0,\"value_throttled\":0,\"width\":200},\"id\":\"1004\",\"type\":\"Slider\"}],\"root_ids\":[\"1004\",\"1005\"]},\"title\":\"Bokeh Application\",\"version\":\"2.2.3\"}};\n",
              "    var render_items = [{\"docid\":\"c565f6cd-eb43-4d69-8f40-81e1337c2d59\",\"root_ids\":[\"1004\"],\"roots\":{\"1004\":\"8be62ac0-2fda-4ddb-a230-fa8b2e0f1693\"}}];\n",
              "    root.Bokeh.embed.embed_items_notebook(docs_json, render_items);\n",
              "  }\n",
              "  if (root.Bokeh !== undefined && root.Bokeh.Panel !== undefined) {\n",
              "    embed_document(root);\n",
              "  } else {\n",
              "    var attempts = 0;\n",
              "    var timer = setInterval(function(root) {\n",
              "      if (root.Bokeh !== undefined && root.Bokeh.Panel !== undefined) {\n",
              "        clearInterval(timer);\n",
              "        embed_document(root);\n",
              "      } else if (document.readyState == \"complete\") {\n",
              "        attempts++;\n",
              "        if (attempts > 100) {\n",
              "          clearInterval(timer);\n",
              "          console.log(\"Bokeh: ERROR: Unable to run BokehJS code because BokehJS library is missing\");\n",
              "        }\n",
              "      }\n",
              "    }, 10, root)\n",
              "  }\n",
              "})(window);</script>"
            ],
            "text/plain": [
              "FloatSlider(end=1000, name='Choose your r..., value_throttled=0, width=200)"
            ]
          },
          "metadata": {
            "tags": [],
            "application/vnd.holoviews_exec.v0+json": {
              "id": "1004"
            }
          },
          "execution_count": 30
        }
      ]
    },
    {
      "cell_type": "code",
      "metadata": {
        "id": "bqda7tLtEZ0w"
      },
      "source": [
        "def click_cb(event):\n",
        "    \n",
        "    pred = generate_text(\n",
        "                model_1_gen,\n",
        "                start_string=generated_text.object,\n",
        "                num_generate = int(slider.value),\n",
        "                temperature=1)\n",
        "    generated_text.object += pred"
      ],
      "execution_count": null,
      "outputs": []
    },
    {
      "cell_type": "code",
      "metadata": {
        "id": "0e24YeQMEZ9h"
      },
      "source": [
        "button.on_click(click_cb)\n"
      ],
      "execution_count": null,
      "outputs": []
    },
    {
      "cell_type": "code",
      "metadata": {
        "colab": {
          "base_uri": "https://localhost:8080/",
          "height": 17
        },
        "id": "ZdNxmfVGEX3c",
        "outputId": "0b5da2a5-c3aa-43fb-f64c-3604a4111e82"
      },
      "source": [
        "app = pn.Column(text_input, button, slider,generated_text); app\n"
      ],
      "execution_count": null,
      "outputs": [
        {
          "output_type": "display_data",
          "data": {},
          "metadata": {
            "tags": []
          }
        },
        {
          "output_type": "execute_result",
          "data": {
            "application/vnd.holoviews_exec.v0+json": "",
            "text/html": [
              "<div id='1006'>\n",
              "\n",
              "\n",
              "\n",
              "\n",
              "\n",
              "  <div class=\"bk-root\" id=\"26319167-3c9d-4081-ba2c-e3a01107ec8c\" data-root-id=\"1006\"></div>\n",
              "</div>\n",
              "<script type=\"application/javascript\">(function(root) {\n",
              "  function embed_document(root) {\n",
              "    var docs_json = {\"60c81128-f580-413e-9f63-5b4e4ab8045d\":{\"roots\":{\"references\":[{\"attributes\":{\"children\":[{\"id\":\"1007\"},{\"id\":\"1008\"},{\"id\":\"1009\"},{\"id\":\"1010\"}],\"margin\":[0,0,0,0],\"name\":\"Column00017\"},\"id\":\"1006\",\"type\":\"Column\"},{\"attributes\":{\"end\":1000,\"format\":\"0[.]00\",\"margin\":[5,10,5,10],\"min_width\":200,\"start\":0,\"step\":0.1,\"title\":\"Choose your recipe length\",\"value\":0,\"value_throttled\":0,\"width\":200},\"id\":\"1009\",\"type\":\"Slider\"},{\"attributes\":{\"button_type\":\"primary\",\"icon\":null,\"label\":\"Generate Recipe\",\"margin\":[5,10,5,10],\"subscribed_events\":[\"button_click\"]},\"id\":\"1008\",\"type\":\"Button\"},{\"attributes\":{\"client_comm_id\":\"05d9daecbb78491a9ae7089e309bb839\",\"comm_id\":\"89e90e1635464be0a7c3f9ec5ed7cc4d\",\"plot_id\":\"1006\"},\"id\":\"1011\",\"type\":\"panel.models.comm_manager.CommManager\"},{\"attributes\":{\"css_classes\":[\"markdown\"],\"margin\":[5,5,5,5],\"name\":\"Markdown00008\"},\"id\":\"1010\",\"type\":\"panel.models.markup.HTML\"},{\"attributes\":{\"margin\":[5,10,5,10]},\"id\":\"1007\",\"type\":\"TextInput\"}],\"root_ids\":[\"1006\",\"1011\"]},\"title\":\"Bokeh Application\",\"version\":\"2.2.3\"}};\n",
              "    var render_items = [{\"docid\":\"60c81128-f580-413e-9f63-5b4e4ab8045d\",\"root_ids\":[\"1006\"],\"roots\":{\"1006\":\"26319167-3c9d-4081-ba2c-e3a01107ec8c\"}}];\n",
              "    root.Bokeh.embed.embed_items_notebook(docs_json, render_items);\n",
              "  }\n",
              "  if (root.Bokeh !== undefined && root.Bokeh.Panel !== undefined) {\n",
              "    embed_document(root);\n",
              "  } else {\n",
              "    var attempts = 0;\n",
              "    var timer = setInterval(function(root) {\n",
              "      if (root.Bokeh !== undefined && root.Bokeh.Panel !== undefined) {\n",
              "        clearInterval(timer);\n",
              "        embed_document(root);\n",
              "      } else if (document.readyState == \"complete\") {\n",
              "        attempts++;\n",
              "        if (attempts > 100) {\n",
              "          clearInterval(timer);\n",
              "          console.log(\"Bokeh: ERROR: Unable to run BokehJS code because BokehJS library is missing\");\n",
              "        }\n",
              "      }\n",
              "    }, 10, root)\n",
              "  }\n",
              "})(window);</script>"
            ],
            "text/plain": [
              "Column\n",
              "    [0] TextInput()\n",
              "    [1] Button(button_type='primary', name='Generate Recipe')\n",
              "    [2] FloatSlider(end=1000, name='Choose your r..., value_throttled=0, width=200)\n",
              "    [3] Markdown(str)"
            ]
          },
          "metadata": {
            "tags": [],
            "application/vnd.holoviews_exec.v0+json": {
              "id": "1006"
            }
          },
          "execution_count": 33
        }
      ]
    },
    {
      "cell_type": "code",
      "metadata": {
        "colab": {
          "base_uri": "https://localhost:8080/",
          "height": 17
        },
        "id": "wJ0ESACgJefT",
        "outputId": "1c1a8a5a-561f-47c8-e6c6-b1784d431979"
      },
      "source": [
        "app"
      ],
      "execution_count": null,
      "outputs": [
        {
          "output_type": "display_data",
          "data": {},
          "metadata": {
            "tags": []
          }
        },
        {
          "output_type": "execute_result",
          "data": {
            "application/vnd.holoviews_exec.v0+json": "",
            "text/html": [
              "<div id='1012'>\n",
              "\n",
              "\n",
              "\n",
              "\n",
              "\n",
              "  <div class=\"bk-root\" id=\"93c727ce-55f4-42ab-a11a-14b2c971ff7d\" data-root-id=\"1012\"></div>\n",
              "</div>\n",
              "<script type=\"application/javascript\">(function(root) {\n",
              "  function embed_document(root) {\n",
              "    var docs_json = {\"8d81500f-e1bf-4d15-87cf-ebaa02c223cd\":{\"roots\":{\"references\":[{\"attributes\":{\"button_type\":\"primary\",\"icon\":null,\"label\":\"Generate Recipe\",\"margin\":[5,10,5,10],\"subscribed_events\":[\"button_click\"]},\"id\":\"1014\",\"type\":\"Button\"},{\"attributes\":{\"margin\":[5,10,5,10]},\"id\":\"1013\",\"type\":\"TextInput\"},{\"attributes\":{\"end\":1000,\"format\":\"0[.]00\",\"margin\":[5,10,5,10],\"min_width\":200,\"start\":0,\"step\":0.1,\"title\":\"Choose your recipe length\",\"value\":0,\"value_throttled\":0,\"width\":200},\"id\":\"1015\",\"type\":\"Slider\"},{\"attributes\":{\"client_comm_id\":\"e0c3c871e3f247c5af6c2088aa2b9106\",\"comm_id\":\"8d2ed5f76dfd4044a3dcb4a8626aaa4b\",\"plot_id\":\"1012\"},\"id\":\"1017\",\"type\":\"panel.models.comm_manager.CommManager\"},{\"attributes\":{\"children\":[{\"id\":\"1013\"},{\"id\":\"1014\"},{\"id\":\"1015\"},{\"id\":\"1016\"}],\"margin\":[0,0,0,0],\"name\":\"Column00017\"},\"id\":\"1012\",\"type\":\"Column\"},{\"attributes\":{\"css_classes\":[\"markdown\"],\"margin\":[5,5,5,5],\"name\":\"Markdown00008\"},\"id\":\"1016\",\"type\":\"panel.models.markup.HTML\"}],\"root_ids\":[\"1012\",\"1017\"]},\"title\":\"Bokeh Application\",\"version\":\"2.2.3\"}};\n",
              "    var render_items = [{\"docid\":\"8d81500f-e1bf-4d15-87cf-ebaa02c223cd\",\"root_ids\":[\"1012\"],\"roots\":{\"1012\":\"93c727ce-55f4-42ab-a11a-14b2c971ff7d\"}}];\n",
              "    root.Bokeh.embed.embed_items_notebook(docs_json, render_items);\n",
              "  }\n",
              "  if (root.Bokeh !== undefined && root.Bokeh.Panel !== undefined) {\n",
              "    embed_document(root);\n",
              "  } else {\n",
              "    var attempts = 0;\n",
              "    var timer = setInterval(function(root) {\n",
              "      if (root.Bokeh !== undefined && root.Bokeh.Panel !== undefined) {\n",
              "        clearInterval(timer);\n",
              "        embed_document(root);\n",
              "      } else if (document.readyState == \"complete\") {\n",
              "        attempts++;\n",
              "        if (attempts > 100) {\n",
              "          clearInterval(timer);\n",
              "          console.log(\"Bokeh: ERROR: Unable to run BokehJS code because BokehJS library is missing\");\n",
              "        }\n",
              "      }\n",
              "    }, 10, root)\n",
              "  }\n",
              "})(window);</script>"
            ],
            "text/plain": [
              "Column\n",
              "    [0] TextInput()\n",
              "    [1] Button(button_type='primary', name='Generate Recipe')\n",
              "    [2] FloatSlider(end=1000, name='Choose your r..., value_throttled=0, width=200)\n",
              "    [3] Markdown(str)"
            ]
          },
          "metadata": {
            "tags": [],
            "application/vnd.holoviews_exec.v0+json": {
              "id": "1012"
            }
          },
          "execution_count": 34
        }
      ]
    },
    {
      "cell_type": "code",
      "metadata": {
        "id": "3TBet28AJeuM"
      },
      "source": [
        "title = pn.pane.Markdown(\"# **Your Recipe Generator**\")\n",
        "desc = pn.pane.HTML(\"<marquee scrollamount='5'><b>Welcome to your recipe generator! In order to get started, please enter you favorite item for you meal of today. Bonne appetit!</b></marquee>\")\n",
        "final_app = pn.Column(title, desc ,app)"
      ],
      "execution_count": null,
      "outputs": []
    },
    {
      "cell_type": "code",
      "metadata": {
        "id": "6hCSbBsuoY8b",
        "outputId": "583ba421-b3e3-402d-a81d-eb5cf354bd9d"
      },
      "source": [
        "final_app.show()"
      ],
      "execution_count": null,
      "outputs": [
        {
          "output_type": "stream",
          "text": [
            "Launching server at http://localhost:56149\n"
          ],
          "name": "stdout"
        },
        {
          "output_type": "execute_result",
          "data": {
            "text/plain": [
              "<bokeh.server.server.Server at 0x665effe10>"
            ]
          },
          "metadata": {
            "tags": []
          },
          "execution_count": 36
        }
      ]
    }
  ]
}